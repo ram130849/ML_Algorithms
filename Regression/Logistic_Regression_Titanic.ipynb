{
 "cells": [
  {
   "cell_type": "code",
   "execution_count": 346,
   "metadata": {},
   "outputs": [],
   "source": [
    "import pandas as pd \n",
    "import numpy as np"
   ]
  },
  {
   "cell_type": "code",
   "execution_count": 347,
   "metadata": {},
   "outputs": [],
   "source": [
    "train = pd.read_csv(\"train_clean.csv\")"
   ]
  },
  {
   "cell_type": "code",
   "execution_count": 348,
   "metadata": {},
   "outputs": [],
   "source": [
    "train[\"Log_Fare\"] = np.log10(train[\"Fare\"]+1)"
   ]
  },
  {
   "cell_type": "code",
   "execution_count": 349,
   "metadata": {},
   "outputs": [
    {
     "data": {
      "text/plain": [
       "count    891.000000\n",
       "mean       1.286938\n",
       "std        0.420714\n",
       "min        0.000000\n",
       "25%        0.949897\n",
       "50%        1.189047\n",
       "75%        1.505150\n",
       "max        2.710396\n",
       "Name: Log_Fare, dtype: float64"
      ]
     },
     "execution_count": 349,
     "metadata": {},
     "output_type": "execute_result"
    }
   ],
   "source": [
    "train.Log_Fare.describe()"
   ]
  },
  {
   "cell_type": "code",
   "execution_count": 350,
   "metadata": {},
   "outputs": [],
   "source": [
    "train.to_csv(\"train_clean.csv\", index = False )"
   ]
  },
  {
   "cell_type": "code",
   "execution_count": 351,
   "metadata": {},
   "outputs": [],
   "source": [
    "test = pd.read_csv(\"test_clean.csv\")"
   ]
  },
  {
   "cell_type": "code",
   "execution_count": 352,
   "metadata": {},
   "outputs": [],
   "source": [
    "test[\"Log_Fare\"] = np.log10(test[\"Fare\"]+1)"
   ]
  },
  {
   "cell_type": "code",
   "execution_count": 353,
   "metadata": {},
   "outputs": [],
   "source": [
    "test.to_csv(\"test_clean.csv\", index = False)"
   ]
  },
  {
   "cell_type": "code",
   "execution_count": 354,
   "metadata": {
    "scrolled": true
   },
   "outputs": [
    {
     "data": {
      "text/html": [
       "<div>\n",
       "<style scoped>\n",
       "    .dataframe tbody tr th:only-of-type {\n",
       "        vertical-align: middle;\n",
       "    }\n",
       "\n",
       "    .dataframe tbody tr th {\n",
       "        vertical-align: top;\n",
       "    }\n",
       "\n",
       "    .dataframe thead th {\n",
       "        text-align: right;\n",
       "    }\n",
       "</style>\n",
       "<table border=\"1\" class=\"dataframe\">\n",
       "  <thead>\n",
       "    <tr style=\"text-align: right;\">\n",
       "      <th></th>\n",
       "      <th>PassengerId</th>\n",
       "      <th>Age</th>\n",
       "      <th>Fare</th>\n",
       "      <th>Parch</th>\n",
       "      <th>Pclass</th>\n",
       "      <th>SibSp</th>\n",
       "      <th>Survived</th>\n",
       "      <th>IsFemale</th>\n",
       "      <th>Age_State</th>\n",
       "      <th>Has_Cabin</th>\n",
       "      <th>...</th>\n",
       "      <th>Fare_Lev</th>\n",
       "      <th>Embarked_Q</th>\n",
       "      <th>Embarked_S</th>\n",
       "      <th>Deck_B</th>\n",
       "      <th>Deck_C</th>\n",
       "      <th>Deck_D</th>\n",
       "      <th>Deck_E</th>\n",
       "      <th>Deck_F</th>\n",
       "      <th>Deck_G</th>\n",
       "      <th>Deck_N</th>\n",
       "    </tr>\n",
       "  </thead>\n",
       "  <tbody>\n",
       "    <tr>\n",
       "      <th>0</th>\n",
       "      <td>1</td>\n",
       "      <td>22.0</td>\n",
       "      <td>7.250000</td>\n",
       "      <td>0</td>\n",
       "      <td>3</td>\n",
       "      <td>1</td>\n",
       "      <td>0</td>\n",
       "      <td>0</td>\n",
       "      <td>3</td>\n",
       "      <td>1</td>\n",
       "      <td>...</td>\n",
       "      <td>0</td>\n",
       "      <td>0</td>\n",
       "      <td>1</td>\n",
       "      <td>0</td>\n",
       "      <td>0</td>\n",
       "      <td>0</td>\n",
       "      <td>0</td>\n",
       "      <td>0</td>\n",
       "      <td>0</td>\n",
       "      <td>1</td>\n",
       "    </tr>\n",
       "    <tr>\n",
       "      <th>1</th>\n",
       "      <td>2</td>\n",
       "      <td>38.0</td>\n",
       "      <td>71.283300</td>\n",
       "      <td>0</td>\n",
       "      <td>1</td>\n",
       "      <td>1</td>\n",
       "      <td>1</td>\n",
       "      <td>1</td>\n",
       "      <td>3</td>\n",
       "      <td>0</td>\n",
       "      <td>...</td>\n",
       "      <td>2</td>\n",
       "      <td>0</td>\n",
       "      <td>0</td>\n",
       "      <td>0</td>\n",
       "      <td>1</td>\n",
       "      <td>0</td>\n",
       "      <td>0</td>\n",
       "      <td>0</td>\n",
       "      <td>0</td>\n",
       "      <td>0</td>\n",
       "    </tr>\n",
       "    <tr>\n",
       "      <th>2</th>\n",
       "      <td>3</td>\n",
       "      <td>26.0</td>\n",
       "      <td>7.925000</td>\n",
       "      <td>0</td>\n",
       "      <td>3</td>\n",
       "      <td>0</td>\n",
       "      <td>1</td>\n",
       "      <td>1</td>\n",
       "      <td>3</td>\n",
       "      <td>1</td>\n",
       "      <td>...</td>\n",
       "      <td>1</td>\n",
       "      <td>0</td>\n",
       "      <td>1</td>\n",
       "      <td>0</td>\n",
       "      <td>0</td>\n",
       "      <td>0</td>\n",
       "      <td>0</td>\n",
       "      <td>0</td>\n",
       "      <td>0</td>\n",
       "      <td>1</td>\n",
       "    </tr>\n",
       "    <tr>\n",
       "      <th>3</th>\n",
       "      <td>4</td>\n",
       "      <td>35.0</td>\n",
       "      <td>53.100000</td>\n",
       "      <td>0</td>\n",
       "      <td>1</td>\n",
       "      <td>1</td>\n",
       "      <td>1</td>\n",
       "      <td>1</td>\n",
       "      <td>3</td>\n",
       "      <td>0</td>\n",
       "      <td>...</td>\n",
       "      <td>2</td>\n",
       "      <td>0</td>\n",
       "      <td>1</td>\n",
       "      <td>0</td>\n",
       "      <td>1</td>\n",
       "      <td>0</td>\n",
       "      <td>0</td>\n",
       "      <td>0</td>\n",
       "      <td>0</td>\n",
       "      <td>0</td>\n",
       "    </tr>\n",
       "    <tr>\n",
       "      <th>4</th>\n",
       "      <td>5</td>\n",
       "      <td>35.0</td>\n",
       "      <td>21.848048</td>\n",
       "      <td>0</td>\n",
       "      <td>3</td>\n",
       "      <td>0</td>\n",
       "      <td>0</td>\n",
       "      <td>0</td>\n",
       "      <td>3</td>\n",
       "      <td>1</td>\n",
       "      <td>...</td>\n",
       "      <td>1</td>\n",
       "      <td>0</td>\n",
       "      <td>1</td>\n",
       "      <td>0</td>\n",
       "      <td>0</td>\n",
       "      <td>0</td>\n",
       "      <td>0</td>\n",
       "      <td>0</td>\n",
       "      <td>0</td>\n",
       "      <td>1</td>\n",
       "    </tr>\n",
       "  </tbody>\n",
       "</table>\n",
       "<p>5 rows × 23 columns</p>\n",
       "</div>"
      ],
      "text/plain": [
       "   PassengerId   Age       Fare  Parch  Pclass  SibSp  Survived  IsFemale  \\\n",
       "0            1  22.0   7.250000      0       3      1         0         0   \n",
       "1            2  38.0  71.283300      0       1      1         1         1   \n",
       "2            3  26.0   7.925000      0       3      0         1         1   \n",
       "3            4  35.0  53.100000      0       1      1         1         1   \n",
       "4            5  35.0  21.848048      0       3      0         0         0   \n",
       "\n",
       "   Age_State  Has_Cabin  ...  Fare_Lev  Embarked_Q  Embarked_S  Deck_B  \\\n",
       "0          3          1  ...         0           0           1       0   \n",
       "1          3          0  ...         2           0           0       0   \n",
       "2          3          1  ...         1           0           1       0   \n",
       "3          3          0  ...         2           0           1       0   \n",
       "4          3          1  ...         1           0           1       0   \n",
       "\n",
       "   Deck_C  Deck_D  Deck_E  Deck_F  Deck_G  Deck_N  \n",
       "0       0       0       0       0       0       1  \n",
       "1       1       0       0       0       0       0  \n",
       "2       0       0       0       0       0       1  \n",
       "3       1       0       0       0       0       0  \n",
       "4       0       0       0       0       0       1  \n",
       "\n",
       "[5 rows x 23 columns]"
      ]
     },
     "execution_count": 354,
     "metadata": {},
     "output_type": "execute_result"
    }
   ],
   "source": [
    "train.head()"
   ]
  },
  {
   "cell_type": "code",
   "execution_count": 355,
   "metadata": {
    "scrolled": true
   },
   "outputs": [
    {
     "data": {
      "text/html": [
       "<div>\n",
       "<style scoped>\n",
       "    .dataframe tbody tr th:only-of-type {\n",
       "        vertical-align: middle;\n",
       "    }\n",
       "\n",
       "    .dataframe tbody tr th {\n",
       "        vertical-align: top;\n",
       "    }\n",
       "\n",
       "    .dataframe thead th {\n",
       "        text-align: right;\n",
       "    }\n",
       "</style>\n",
       "<table border=\"1\" class=\"dataframe\">\n",
       "  <thead>\n",
       "    <tr style=\"text-align: right;\">\n",
       "      <th></th>\n",
       "      <th>PassengerId</th>\n",
       "      <th>Age</th>\n",
       "      <th>Fare</th>\n",
       "      <th>Parch</th>\n",
       "      <th>Pclass</th>\n",
       "      <th>SibSp</th>\n",
       "      <th>IsFemale</th>\n",
       "      <th>Age_State</th>\n",
       "      <th>Has_Cabin</th>\n",
       "      <th>Is_Mother</th>\n",
       "      <th>...</th>\n",
       "      <th>Fare_Lev</th>\n",
       "      <th>Embarked_Q</th>\n",
       "      <th>Embarked_S</th>\n",
       "      <th>Deck_B</th>\n",
       "      <th>Deck_C</th>\n",
       "      <th>Deck_D</th>\n",
       "      <th>Deck_E</th>\n",
       "      <th>Deck_F</th>\n",
       "      <th>Deck_G</th>\n",
       "      <th>Deck_N</th>\n",
       "    </tr>\n",
       "  </thead>\n",
       "  <tbody>\n",
       "    <tr>\n",
       "      <th>0</th>\n",
       "      <td>892</td>\n",
       "      <td>34.5</td>\n",
       "      <td>7.8292</td>\n",
       "      <td>0</td>\n",
       "      <td>3</td>\n",
       "      <td>0</td>\n",
       "      <td>0</td>\n",
       "      <td>3</td>\n",
       "      <td>1</td>\n",
       "      <td>0</td>\n",
       "      <td>...</td>\n",
       "      <td>0</td>\n",
       "      <td>1</td>\n",
       "      <td>0</td>\n",
       "      <td>0</td>\n",
       "      <td>0</td>\n",
       "      <td>0</td>\n",
       "      <td>0</td>\n",
       "      <td>0</td>\n",
       "      <td>0</td>\n",
       "      <td>1</td>\n",
       "    </tr>\n",
       "    <tr>\n",
       "      <th>1</th>\n",
       "      <td>893</td>\n",
       "      <td>47.0</td>\n",
       "      <td>7.0000</td>\n",
       "      <td>0</td>\n",
       "      <td>3</td>\n",
       "      <td>1</td>\n",
       "      <td>1</td>\n",
       "      <td>3</td>\n",
       "      <td>1</td>\n",
       "      <td>0</td>\n",
       "      <td>...</td>\n",
       "      <td>0</td>\n",
       "      <td>0</td>\n",
       "      <td>1</td>\n",
       "      <td>0</td>\n",
       "      <td>0</td>\n",
       "      <td>0</td>\n",
       "      <td>0</td>\n",
       "      <td>0</td>\n",
       "      <td>0</td>\n",
       "      <td>1</td>\n",
       "    </tr>\n",
       "    <tr>\n",
       "      <th>2</th>\n",
       "      <td>894</td>\n",
       "      <td>62.0</td>\n",
       "      <td>9.6875</td>\n",
       "      <td>0</td>\n",
       "      <td>2</td>\n",
       "      <td>0</td>\n",
       "      <td>0</td>\n",
       "      <td>4</td>\n",
       "      <td>1</td>\n",
       "      <td>0</td>\n",
       "      <td>...</td>\n",
       "      <td>1</td>\n",
       "      <td>1</td>\n",
       "      <td>0</td>\n",
       "      <td>0</td>\n",
       "      <td>0</td>\n",
       "      <td>0</td>\n",
       "      <td>0</td>\n",
       "      <td>0</td>\n",
       "      <td>0</td>\n",
       "      <td>1</td>\n",
       "    </tr>\n",
       "    <tr>\n",
       "      <th>3</th>\n",
       "      <td>895</td>\n",
       "      <td>27.0</td>\n",
       "      <td>8.6625</td>\n",
       "      <td>0</td>\n",
       "      <td>3</td>\n",
       "      <td>0</td>\n",
       "      <td>0</td>\n",
       "      <td>3</td>\n",
       "      <td>1</td>\n",
       "      <td>0</td>\n",
       "      <td>...</td>\n",
       "      <td>1</td>\n",
       "      <td>0</td>\n",
       "      <td>1</td>\n",
       "      <td>0</td>\n",
       "      <td>0</td>\n",
       "      <td>0</td>\n",
       "      <td>0</td>\n",
       "      <td>0</td>\n",
       "      <td>0</td>\n",
       "      <td>1</td>\n",
       "    </tr>\n",
       "    <tr>\n",
       "      <th>4</th>\n",
       "      <td>896</td>\n",
       "      <td>22.0</td>\n",
       "      <td>12.2875</td>\n",
       "      <td>1</td>\n",
       "      <td>3</td>\n",
       "      <td>1</td>\n",
       "      <td>1</td>\n",
       "      <td>3</td>\n",
       "      <td>1</td>\n",
       "      <td>1</td>\n",
       "      <td>...</td>\n",
       "      <td>1</td>\n",
       "      <td>0</td>\n",
       "      <td>1</td>\n",
       "      <td>0</td>\n",
       "      <td>0</td>\n",
       "      <td>0</td>\n",
       "      <td>0</td>\n",
       "      <td>0</td>\n",
       "      <td>0</td>\n",
       "      <td>1</td>\n",
       "    </tr>\n",
       "  </tbody>\n",
       "</table>\n",
       "<p>5 rows × 22 columns</p>\n",
       "</div>"
      ],
      "text/plain": [
       "   PassengerId   Age     Fare  Parch  Pclass  SibSp  IsFemale  Age_State  \\\n",
       "0          892  34.5   7.8292      0       3      0         0          3   \n",
       "1          893  47.0   7.0000      0       3      1         1          3   \n",
       "2          894  62.0   9.6875      0       2      0         0          4   \n",
       "3          895  27.0   8.6625      0       3      0         0          3   \n",
       "4          896  22.0  12.2875      1       3      1         1          3   \n",
       "\n",
       "   Has_Cabin  Is_Mother  ...  Fare_Lev  Embarked_Q  Embarked_S  Deck_B  \\\n",
       "0          1          0  ...         0           1           0       0   \n",
       "1          1          0  ...         0           0           1       0   \n",
       "2          1          0  ...         1           1           0       0   \n",
       "3          1          0  ...         1           0           1       0   \n",
       "4          1          1  ...         1           0           1       0   \n",
       "\n",
       "   Deck_C  Deck_D  Deck_E  Deck_F  Deck_G  Deck_N  \n",
       "0       0       0       0       0       0       1  \n",
       "1       0       0       0       0       0       1  \n",
       "2       0       0       0       0       0       1  \n",
       "3       0       0       0       0       0       1  \n",
       "4       0       0       0       0       0       1  \n",
       "\n",
       "[5 rows x 22 columns]"
      ]
     },
     "execution_count": 355,
     "metadata": {},
     "output_type": "execute_result"
    }
   ],
   "source": [
    "test.head() #we have to make the predictions for this unseen data-set"
   ]
  },
  {
   "cell_type": "code",
   "execution_count": 356,
   "metadata": {},
   "outputs": [
    {
     "data": {
      "text/html": [
       "<div>\n",
       "<style scoped>\n",
       "    .dataframe tbody tr th:only-of-type {\n",
       "        vertical-align: middle;\n",
       "    }\n",
       "\n",
       "    .dataframe tbody tr th {\n",
       "        vertical-align: top;\n",
       "    }\n",
       "\n",
       "    .dataframe thead th {\n",
       "        text-align: right;\n",
       "    }\n",
       "</style>\n",
       "<table border=\"1\" class=\"dataframe\">\n",
       "  <thead>\n",
       "    <tr style=\"text-align: right;\">\n",
       "      <th></th>\n",
       "      <th>PassengerId</th>\n",
       "      <th>Age</th>\n",
       "      <th>Fare</th>\n",
       "      <th>Parch</th>\n",
       "      <th>Pclass</th>\n",
       "      <th>SibSp</th>\n",
       "      <th>Survived</th>\n",
       "      <th>IsFemale</th>\n",
       "      <th>Age_State</th>\n",
       "      <th>Has_Cabin</th>\n",
       "      <th>...</th>\n",
       "      <th>Fare_Lev</th>\n",
       "      <th>Embarked_Q</th>\n",
       "      <th>Embarked_S</th>\n",
       "      <th>Deck_B</th>\n",
       "      <th>Deck_C</th>\n",
       "      <th>Deck_D</th>\n",
       "      <th>Deck_E</th>\n",
       "      <th>Deck_F</th>\n",
       "      <th>Deck_G</th>\n",
       "      <th>Deck_N</th>\n",
       "    </tr>\n",
       "  </thead>\n",
       "  <tbody>\n",
       "    <tr>\n",
       "      <th>0</th>\n",
       "      <td>1</td>\n",
       "      <td>22.0</td>\n",
       "      <td>7.250000</td>\n",
       "      <td>0</td>\n",
       "      <td>3</td>\n",
       "      <td>1</td>\n",
       "      <td>0</td>\n",
       "      <td>0</td>\n",
       "      <td>3</td>\n",
       "      <td>1</td>\n",
       "      <td>...</td>\n",
       "      <td>0</td>\n",
       "      <td>0</td>\n",
       "      <td>1</td>\n",
       "      <td>0</td>\n",
       "      <td>0</td>\n",
       "      <td>0</td>\n",
       "      <td>0</td>\n",
       "      <td>0</td>\n",
       "      <td>0</td>\n",
       "      <td>1</td>\n",
       "    </tr>\n",
       "    <tr>\n",
       "      <th>1</th>\n",
       "      <td>2</td>\n",
       "      <td>38.0</td>\n",
       "      <td>71.283300</td>\n",
       "      <td>0</td>\n",
       "      <td>1</td>\n",
       "      <td>1</td>\n",
       "      <td>1</td>\n",
       "      <td>1</td>\n",
       "      <td>3</td>\n",
       "      <td>0</td>\n",
       "      <td>...</td>\n",
       "      <td>2</td>\n",
       "      <td>0</td>\n",
       "      <td>0</td>\n",
       "      <td>0</td>\n",
       "      <td>1</td>\n",
       "      <td>0</td>\n",
       "      <td>0</td>\n",
       "      <td>0</td>\n",
       "      <td>0</td>\n",
       "      <td>0</td>\n",
       "    </tr>\n",
       "    <tr>\n",
       "      <th>2</th>\n",
       "      <td>3</td>\n",
       "      <td>26.0</td>\n",
       "      <td>7.925000</td>\n",
       "      <td>0</td>\n",
       "      <td>3</td>\n",
       "      <td>0</td>\n",
       "      <td>1</td>\n",
       "      <td>1</td>\n",
       "      <td>3</td>\n",
       "      <td>1</td>\n",
       "      <td>...</td>\n",
       "      <td>1</td>\n",
       "      <td>0</td>\n",
       "      <td>1</td>\n",
       "      <td>0</td>\n",
       "      <td>0</td>\n",
       "      <td>0</td>\n",
       "      <td>0</td>\n",
       "      <td>0</td>\n",
       "      <td>0</td>\n",
       "      <td>1</td>\n",
       "    </tr>\n",
       "    <tr>\n",
       "      <th>3</th>\n",
       "      <td>4</td>\n",
       "      <td>35.0</td>\n",
       "      <td>53.100000</td>\n",
       "      <td>0</td>\n",
       "      <td>1</td>\n",
       "      <td>1</td>\n",
       "      <td>1</td>\n",
       "      <td>1</td>\n",
       "      <td>3</td>\n",
       "      <td>0</td>\n",
       "      <td>...</td>\n",
       "      <td>2</td>\n",
       "      <td>0</td>\n",
       "      <td>1</td>\n",
       "      <td>0</td>\n",
       "      <td>1</td>\n",
       "      <td>0</td>\n",
       "      <td>0</td>\n",
       "      <td>0</td>\n",
       "      <td>0</td>\n",
       "      <td>0</td>\n",
       "    </tr>\n",
       "    <tr>\n",
       "      <th>4</th>\n",
       "      <td>5</td>\n",
       "      <td>35.0</td>\n",
       "      <td>21.848048</td>\n",
       "      <td>0</td>\n",
       "      <td>3</td>\n",
       "      <td>0</td>\n",
       "      <td>0</td>\n",
       "      <td>0</td>\n",
       "      <td>3</td>\n",
       "      <td>1</td>\n",
       "      <td>...</td>\n",
       "      <td>1</td>\n",
       "      <td>0</td>\n",
       "      <td>1</td>\n",
       "      <td>0</td>\n",
       "      <td>0</td>\n",
       "      <td>0</td>\n",
       "      <td>0</td>\n",
       "      <td>0</td>\n",
       "      <td>0</td>\n",
       "      <td>1</td>\n",
       "    </tr>\n",
       "  </tbody>\n",
       "</table>\n",
       "<p>5 rows × 23 columns</p>\n",
       "</div>"
      ],
      "text/plain": [
       "   PassengerId   Age       Fare  Parch  Pclass  SibSp  Survived  IsFemale  \\\n",
       "0            1  22.0   7.250000      0       3      1         0         0   \n",
       "1            2  38.0  71.283300      0       1      1         1         1   \n",
       "2            3  26.0   7.925000      0       3      0         1         1   \n",
       "3            4  35.0  53.100000      0       1      1         1         1   \n",
       "4            5  35.0  21.848048      0       3      0         0         0   \n",
       "\n",
       "   Age_State  Has_Cabin  ...  Fare_Lev  Embarked_Q  Embarked_S  Deck_B  \\\n",
       "0          3          1  ...         0           0           1       0   \n",
       "1          3          0  ...         2           0           0       0   \n",
       "2          3          1  ...         1           0           1       0   \n",
       "3          3          0  ...         2           0           1       0   \n",
       "4          3          1  ...         1           0           1       0   \n",
       "\n",
       "   Deck_C  Deck_D  Deck_E  Deck_F  Deck_G  Deck_N  \n",
       "0       0       0       0       0       0       1  \n",
       "1       1       0       0       0       0       0  \n",
       "2       0       0       0       0       0       1  \n",
       "3       1       0       0       0       0       0  \n",
       "4       0       0       0       0       0       1  \n",
       "\n",
       "[5 rows x 23 columns]"
      ]
     },
     "execution_count": 356,
     "metadata": {},
     "output_type": "execute_result"
    }
   ],
   "source": [
    "train.head()"
   ]
  },
  {
   "cell_type": "code",
   "execution_count": 357,
   "metadata": {},
   "outputs": [],
   "source": [
    "train.set_index(\"PassengerId\", inplace = True)"
   ]
  },
  {
   "cell_type": "code",
   "execution_count": 358,
   "metadata": {},
   "outputs": [],
   "source": [
    "X = train.drop(\"Survived\", axis = 1)"
   ]
  },
  {
   "cell_type": "code",
   "execution_count": 359,
   "metadata": {
    "scrolled": true
   },
   "outputs": [
    {
     "data": {
      "text/html": [
       "<div>\n",
       "<style scoped>\n",
       "    .dataframe tbody tr th:only-of-type {\n",
       "        vertical-align: middle;\n",
       "    }\n",
       "\n",
       "    .dataframe tbody tr th {\n",
       "        vertical-align: top;\n",
       "    }\n",
       "\n",
       "    .dataframe thead th {\n",
       "        text-align: right;\n",
       "    }\n",
       "</style>\n",
       "<table border=\"1\" class=\"dataframe\">\n",
       "  <thead>\n",
       "    <tr style=\"text-align: right;\">\n",
       "      <th></th>\n",
       "      <th>Age</th>\n",
       "      <th>Fare</th>\n",
       "      <th>Parch</th>\n",
       "      <th>Pclass</th>\n",
       "      <th>SibSp</th>\n",
       "      <th>IsFemale</th>\n",
       "      <th>Age_State</th>\n",
       "      <th>Has_Cabin</th>\n",
       "      <th>Is_Mother</th>\n",
       "      <th>Log_Fare</th>\n",
       "      <th>...</th>\n",
       "      <th>Fare_Lev</th>\n",
       "      <th>Embarked_Q</th>\n",
       "      <th>Embarked_S</th>\n",
       "      <th>Deck_B</th>\n",
       "      <th>Deck_C</th>\n",
       "      <th>Deck_D</th>\n",
       "      <th>Deck_E</th>\n",
       "      <th>Deck_F</th>\n",
       "      <th>Deck_G</th>\n",
       "      <th>Deck_N</th>\n",
       "    </tr>\n",
       "    <tr>\n",
       "      <th>PassengerId</th>\n",
       "      <th></th>\n",
       "      <th></th>\n",
       "      <th></th>\n",
       "      <th></th>\n",
       "      <th></th>\n",
       "      <th></th>\n",
       "      <th></th>\n",
       "      <th></th>\n",
       "      <th></th>\n",
       "      <th></th>\n",
       "      <th></th>\n",
       "      <th></th>\n",
       "      <th></th>\n",
       "      <th></th>\n",
       "      <th></th>\n",
       "      <th></th>\n",
       "      <th></th>\n",
       "      <th></th>\n",
       "      <th></th>\n",
       "      <th></th>\n",
       "      <th></th>\n",
       "    </tr>\n",
       "  </thead>\n",
       "  <tbody>\n",
       "    <tr>\n",
       "      <th>1</th>\n",
       "      <td>22.0</td>\n",
       "      <td>7.2500</td>\n",
       "      <td>0</td>\n",
       "      <td>3</td>\n",
       "      <td>1</td>\n",
       "      <td>0</td>\n",
       "      <td>3</td>\n",
       "      <td>1</td>\n",
       "      <td>0</td>\n",
       "      <td>0.916454</td>\n",
       "      <td>...</td>\n",
       "      <td>0</td>\n",
       "      <td>0</td>\n",
       "      <td>1</td>\n",
       "      <td>0</td>\n",
       "      <td>0</td>\n",
       "      <td>0</td>\n",
       "      <td>0</td>\n",
       "      <td>0</td>\n",
       "      <td>0</td>\n",
       "      <td>1</td>\n",
       "    </tr>\n",
       "    <tr>\n",
       "      <th>2</th>\n",
       "      <td>38.0</td>\n",
       "      <td>71.2833</td>\n",
       "      <td>0</td>\n",
       "      <td>1</td>\n",
       "      <td>1</td>\n",
       "      <td>1</td>\n",
       "      <td>3</td>\n",
       "      <td>0</td>\n",
       "      <td>0</td>\n",
       "      <td>1.859038</td>\n",
       "      <td>...</td>\n",
       "      <td>2</td>\n",
       "      <td>0</td>\n",
       "      <td>0</td>\n",
       "      <td>0</td>\n",
       "      <td>1</td>\n",
       "      <td>0</td>\n",
       "      <td>0</td>\n",
       "      <td>0</td>\n",
       "      <td>0</td>\n",
       "      <td>0</td>\n",
       "    </tr>\n",
       "  </tbody>\n",
       "</table>\n",
       "<p>2 rows × 21 columns</p>\n",
       "</div>"
      ],
      "text/plain": [
       "              Age     Fare  Parch  Pclass  SibSp  IsFemale  Age_State  \\\n",
       "PassengerId                                                             \n",
       "1            22.0   7.2500      0       3      1         0          3   \n",
       "2            38.0  71.2833      0       1      1         1          3   \n",
       "\n",
       "             Has_Cabin  Is_Mother  Log_Fare  ...  Fare_Lev  Embarked_Q  \\\n",
       "PassengerId                                  ...                         \n",
       "1                    1          0  0.916454  ...         0           0   \n",
       "2                    0          0  1.859038  ...         2           0   \n",
       "\n",
       "             Embarked_S  Deck_B  Deck_C  Deck_D  Deck_E  Deck_F  Deck_G  \\\n",
       "PassengerId                                                               \n",
       "1                     1       0       0       0       0       0       0   \n",
       "2                     0       0       1       0       0       0       0   \n",
       "\n",
       "             Deck_N  \n",
       "PassengerId          \n",
       "1                 1  \n",
       "2                 0  \n",
       "\n",
       "[2 rows x 21 columns]"
      ]
     },
     "execution_count": 359,
     "metadata": {},
     "output_type": "execute_result"
    }
   ],
   "source": [
    "X[:2]"
   ]
  },
  {
   "cell_type": "code",
   "execution_count": 360,
   "metadata": {},
   "outputs": [],
   "source": [
    "y = train.Survived"
   ]
  },
  {
   "cell_type": "code",
   "execution_count": 361,
   "metadata": {},
   "outputs": [],
   "source": [
    "from sklearn.model_selection import train_test_split"
   ]
  },
  {
   "cell_type": "code",
   "execution_count": 362,
   "metadata": {},
   "outputs": [],
   "source": [
    "X_train, X_test, y_train, y_test = train_test_split(X,y, test_size = .2, random_state = 2)"
   ]
  },
  {
   "cell_type": "code",
   "execution_count": 363,
   "metadata": {},
   "outputs": [
    {
     "data": {
      "text/plain": [
       "((712, 21), (179, 21), (712,), (179,))"
      ]
     },
     "execution_count": 363,
     "metadata": {},
     "output_type": "execute_result"
    }
   ],
   "source": [
    "X_train.shape, X_test.shape, y_train.shape, y_test.shape"
   ]
  },
  {
   "cell_type": "code",
   "execution_count": 364,
   "metadata": {},
   "outputs": [],
   "source": [
    "from sklearn.preprocessing import StandardScaler"
   ]
  },
  {
   "cell_type": "code",
   "execution_count": 365,
   "metadata": {},
   "outputs": [],
   "source": [
    "ss = StandardScaler()"
   ]
  },
  {
   "cell_type": "code",
   "execution_count": 366,
   "metadata": {},
   "outputs": [
    {
     "data": {
      "text/html": [
       "<div>\n",
       "<style scoped>\n",
       "    .dataframe tbody tr th:only-of-type {\n",
       "        vertical-align: middle;\n",
       "    }\n",
       "\n",
       "    .dataframe tbody tr th {\n",
       "        vertical-align: top;\n",
       "    }\n",
       "\n",
       "    .dataframe thead th {\n",
       "        text-align: right;\n",
       "    }\n",
       "</style>\n",
       "<table border=\"1\" class=\"dataframe\">\n",
       "  <thead>\n",
       "    <tr style=\"text-align: right;\">\n",
       "      <th></th>\n",
       "      <th>Age</th>\n",
       "      <th>Fare</th>\n",
       "      <th>Parch</th>\n",
       "      <th>Pclass</th>\n",
       "      <th>SibSp</th>\n",
       "      <th>IsFemale</th>\n",
       "      <th>Age_State</th>\n",
       "      <th>Has_Cabin</th>\n",
       "      <th>Is_Mother</th>\n",
       "      <th>Log_Fare</th>\n",
       "      <th>...</th>\n",
       "      <th>Fare_Lev</th>\n",
       "      <th>Embarked_Q</th>\n",
       "      <th>Embarked_S</th>\n",
       "      <th>Deck_B</th>\n",
       "      <th>Deck_C</th>\n",
       "      <th>Deck_D</th>\n",
       "      <th>Deck_E</th>\n",
       "      <th>Deck_F</th>\n",
       "      <th>Deck_G</th>\n",
       "      <th>Deck_N</th>\n",
       "    </tr>\n",
       "  </thead>\n",
       "  <tbody>\n",
       "    <tr>\n",
       "      <th>count</th>\n",
       "      <td>712.000000</td>\n",
       "      <td>712.000000</td>\n",
       "      <td>712.000000</td>\n",
       "      <td>712.000000</td>\n",
       "      <td>712.000000</td>\n",
       "      <td>712.000000</td>\n",
       "      <td>712.000000</td>\n",
       "      <td>712.000000</td>\n",
       "      <td>712.000000</td>\n",
       "      <td>712.000000</td>\n",
       "      <td>...</td>\n",
       "      <td>712.000000</td>\n",
       "      <td>712.000000</td>\n",
       "      <td>712.000000</td>\n",
       "      <td>712.000000</td>\n",
       "      <td>712.000000</td>\n",
       "      <td>712.000000</td>\n",
       "      <td>712.000000</td>\n",
       "      <td>712.000000</td>\n",
       "      <td>712.000000</td>\n",
       "      <td>712.000000</td>\n",
       "    </tr>\n",
       "    <tr>\n",
       "      <th>mean</th>\n",
       "      <td>29.805700</td>\n",
       "      <td>32.308435</td>\n",
       "      <td>0.407303</td>\n",
       "      <td>2.300562</td>\n",
       "      <td>0.525281</td>\n",
       "      <td>0.355337</td>\n",
       "      <td>2.801966</td>\n",
       "      <td>0.776685</td>\n",
       "      <td>0.091292</td>\n",
       "      <td>1.292288</td>\n",
       "      <td>...</td>\n",
       "      <td>1.032303</td>\n",
       "      <td>0.095506</td>\n",
       "      <td>0.702247</td>\n",
       "      <td>0.057584</td>\n",
       "      <td>0.064607</td>\n",
       "      <td>0.036517</td>\n",
       "      <td>0.035112</td>\n",
       "      <td>0.011236</td>\n",
       "      <td>0.002809</td>\n",
       "      <td>0.776685</td>\n",
       "    </tr>\n",
       "    <tr>\n",
       "      <th>std</th>\n",
       "      <td>12.720618</td>\n",
       "      <td>48.657717</td>\n",
       "      <td>0.841840</td>\n",
       "      <td>0.838322</td>\n",
       "      <td>1.126053</td>\n",
       "      <td>0.478952</td>\n",
       "      <td>0.622003</td>\n",
       "      <td>0.416760</td>\n",
       "      <td>0.288227</td>\n",
       "      <td>0.415666</td>\n",
       "      <td>...</td>\n",
       "      <td>0.790464</td>\n",
       "      <td>0.294119</td>\n",
       "      <td>0.457592</td>\n",
       "      <td>0.233119</td>\n",
       "      <td>0.246003</td>\n",
       "      <td>0.187704</td>\n",
       "      <td>0.184193</td>\n",
       "      <td>0.105477</td>\n",
       "      <td>0.052963</td>\n",
       "      <td>0.416760</td>\n",
       "    </tr>\n",
       "    <tr>\n",
       "      <th>min</th>\n",
       "      <td>0.420000</td>\n",
       "      <td>0.000000</td>\n",
       "      <td>0.000000</td>\n",
       "      <td>1.000000</td>\n",
       "      <td>0.000000</td>\n",
       "      <td>0.000000</td>\n",
       "      <td>0.000000</td>\n",
       "      <td>0.000000</td>\n",
       "      <td>0.000000</td>\n",
       "      <td>0.000000</td>\n",
       "      <td>...</td>\n",
       "      <td>0.000000</td>\n",
       "      <td>0.000000</td>\n",
       "      <td>0.000000</td>\n",
       "      <td>0.000000</td>\n",
       "      <td>0.000000</td>\n",
       "      <td>0.000000</td>\n",
       "      <td>0.000000</td>\n",
       "      <td>0.000000</td>\n",
       "      <td>0.000000</td>\n",
       "      <td>0.000000</td>\n",
       "    </tr>\n",
       "    <tr>\n",
       "      <th>25%</th>\n",
       "      <td>23.000000</td>\n",
       "      <td>7.895800</td>\n",
       "      <td>0.000000</td>\n",
       "      <td>2.000000</td>\n",
       "      <td>0.000000</td>\n",
       "      <td>0.000000</td>\n",
       "      <td>3.000000</td>\n",
       "      <td>1.000000</td>\n",
       "      <td>0.000000</td>\n",
       "      <td>0.949185</td>\n",
       "      <td>...</td>\n",
       "      <td>0.000000</td>\n",
       "      <td>0.000000</td>\n",
       "      <td>0.000000</td>\n",
       "      <td>0.000000</td>\n",
       "      <td>0.000000</td>\n",
       "      <td>0.000000</td>\n",
       "      <td>0.000000</td>\n",
       "      <td>0.000000</td>\n",
       "      <td>0.000000</td>\n",
       "      <td>1.000000</td>\n",
       "    </tr>\n",
       "    <tr>\n",
       "      <th>50%</th>\n",
       "      <td>29.881138</td>\n",
       "      <td>14.479150</td>\n",
       "      <td>0.000000</td>\n",
       "      <td>3.000000</td>\n",
       "      <td>0.000000</td>\n",
       "      <td>0.000000</td>\n",
       "      <td>3.000000</td>\n",
       "      <td>1.000000</td>\n",
       "      <td>0.000000</td>\n",
       "      <td>1.189747</td>\n",
       "      <td>...</td>\n",
       "      <td>1.000000</td>\n",
       "      <td>0.000000</td>\n",
       "      <td>1.000000</td>\n",
       "      <td>0.000000</td>\n",
       "      <td>0.000000</td>\n",
       "      <td>0.000000</td>\n",
       "      <td>0.000000</td>\n",
       "      <td>0.000000</td>\n",
       "      <td>0.000000</td>\n",
       "      <td>1.000000</td>\n",
       "    </tr>\n",
       "    <tr>\n",
       "      <th>75%</th>\n",
       "      <td>35.000000</td>\n",
       "      <td>31.068750</td>\n",
       "      <td>0.250000</td>\n",
       "      <td>3.000000</td>\n",
       "      <td>1.000000</td>\n",
       "      <td>1.000000</td>\n",
       "      <td>3.000000</td>\n",
       "      <td>1.000000</td>\n",
       "      <td>0.000000</td>\n",
       "      <td>1.506079</td>\n",
       "      <td>...</td>\n",
       "      <td>1.000000</td>\n",
       "      <td>0.000000</td>\n",
       "      <td>1.000000</td>\n",
       "      <td>0.000000</td>\n",
       "      <td>0.000000</td>\n",
       "      <td>0.000000</td>\n",
       "      <td>0.000000</td>\n",
       "      <td>0.000000</td>\n",
       "      <td>0.000000</td>\n",
       "      <td>1.000000</td>\n",
       "    </tr>\n",
       "    <tr>\n",
       "      <th>max</th>\n",
       "      <td>71.000000</td>\n",
       "      <td>512.329200</td>\n",
       "      <td>6.000000</td>\n",
       "      <td>3.000000</td>\n",
       "      <td>8.000000</td>\n",
       "      <td>1.000000</td>\n",
       "      <td>4.000000</td>\n",
       "      <td>1.000000</td>\n",
       "      <td>1.000000</td>\n",
       "      <td>2.710396</td>\n",
       "      <td>...</td>\n",
       "      <td>3.000000</td>\n",
       "      <td>1.000000</td>\n",
       "      <td>1.000000</td>\n",
       "      <td>1.000000</td>\n",
       "      <td>1.000000</td>\n",
       "      <td>1.000000</td>\n",
       "      <td>1.000000</td>\n",
       "      <td>1.000000</td>\n",
       "      <td>1.000000</td>\n",
       "      <td>1.000000</td>\n",
       "    </tr>\n",
       "  </tbody>\n",
       "</table>\n",
       "<p>8 rows × 21 columns</p>\n",
       "</div>"
      ],
      "text/plain": [
       "              Age        Fare       Parch      Pclass       SibSp    IsFemale  \\\n",
       "count  712.000000  712.000000  712.000000  712.000000  712.000000  712.000000   \n",
       "mean    29.805700   32.308435    0.407303    2.300562    0.525281    0.355337   \n",
       "std     12.720618   48.657717    0.841840    0.838322    1.126053    0.478952   \n",
       "min      0.420000    0.000000    0.000000    1.000000    0.000000    0.000000   \n",
       "25%     23.000000    7.895800    0.000000    2.000000    0.000000    0.000000   \n",
       "50%     29.881138   14.479150    0.000000    3.000000    0.000000    0.000000   \n",
       "75%     35.000000   31.068750    0.250000    3.000000    1.000000    1.000000   \n",
       "max     71.000000  512.329200    6.000000    3.000000    8.000000    1.000000   \n",
       "\n",
       "        Age_State   Has_Cabin   Is_Mother    Log_Fare  ...    Fare_Lev  \\\n",
       "count  712.000000  712.000000  712.000000  712.000000  ...  712.000000   \n",
       "mean     2.801966    0.776685    0.091292    1.292288  ...    1.032303   \n",
       "std      0.622003    0.416760    0.288227    0.415666  ...    0.790464   \n",
       "min      0.000000    0.000000    0.000000    0.000000  ...    0.000000   \n",
       "25%      3.000000    1.000000    0.000000    0.949185  ...    0.000000   \n",
       "50%      3.000000    1.000000    0.000000    1.189747  ...    1.000000   \n",
       "75%      3.000000    1.000000    0.000000    1.506079  ...    1.000000   \n",
       "max      4.000000    1.000000    1.000000    2.710396  ...    3.000000   \n",
       "\n",
       "       Embarked_Q  Embarked_S      Deck_B      Deck_C      Deck_D      Deck_E  \\\n",
       "count  712.000000  712.000000  712.000000  712.000000  712.000000  712.000000   \n",
       "mean     0.095506    0.702247    0.057584    0.064607    0.036517    0.035112   \n",
       "std      0.294119    0.457592    0.233119    0.246003    0.187704    0.184193   \n",
       "min      0.000000    0.000000    0.000000    0.000000    0.000000    0.000000   \n",
       "25%      0.000000    0.000000    0.000000    0.000000    0.000000    0.000000   \n",
       "50%      0.000000    1.000000    0.000000    0.000000    0.000000    0.000000   \n",
       "75%      0.000000    1.000000    0.000000    0.000000    0.000000    0.000000   \n",
       "max      1.000000    1.000000    1.000000    1.000000    1.000000    1.000000   \n",
       "\n",
       "           Deck_F      Deck_G      Deck_N  \n",
       "count  712.000000  712.000000  712.000000  \n",
       "mean     0.011236    0.002809    0.776685  \n",
       "std      0.105477    0.052963    0.416760  \n",
       "min      0.000000    0.000000    0.000000  \n",
       "25%      0.000000    0.000000    1.000000  \n",
       "50%      0.000000    0.000000    1.000000  \n",
       "75%      0.000000    0.000000    1.000000  \n",
       "max      1.000000    1.000000    1.000000  \n",
       "\n",
       "[8 rows x 21 columns]"
      ]
     },
     "execution_count": 366,
     "metadata": {},
     "output_type": "execute_result"
    }
   ],
   "source": [
    "X_train.describe(include = \"all\")"
   ]
  },
  {
   "cell_type": "code",
   "execution_count": 367,
   "metadata": {},
   "outputs": [],
   "source": [
    "X_train_arr = ss.fit_transform(X_train)"
   ]
  },
  {
   "cell_type": "code",
   "execution_count": 368,
   "metadata": {
    "scrolled": true
   },
   "outputs": [
    {
     "data": {
      "text/plain": [
       "array([[ 8.01963126e-01, -9.43500978e-02, -4.84165198e-01, ...,\n",
       "        -1.06600358e-01, -5.30744892e-02,  5.36211343e-01],\n",
       "       [-2.03007757e+00, -3.21005768e-01,  7.04543840e-01, ...,\n",
       "        -1.06600358e-01,  1.88414437e+01, -1.86493630e+00],\n",
       "       [ 1.35263771e+00, -4.79365294e-01, -4.84165198e-01, ...,\n",
       "        -1.06600358e-01, -5.30744892e-02,  5.36211343e-01],\n",
       "       ...,\n",
       "       [ 3.24066483e+00,  3.53651057e-01, -4.84165198e-01, ...,\n",
       "        -1.06600358e-01, -5.30744892e-02,  5.36211343e-01],\n",
       "       [ 5.93451806e-03,  3.89668837e+00, -4.84165198e-01, ...,\n",
       "        -1.06600358e-01, -5.30744892e-02, -1.86493630e+00],\n",
       "       [ 5.93451806e-03, -1.31282830e-01, -4.84165198e-01, ...,\n",
       "        -1.06600358e-01, -5.30744892e-02,  5.36211343e-01]])"
      ]
     },
     "execution_count": 368,
     "metadata": {},
     "output_type": "execute_result"
    }
   ],
   "source": [
    "X_train_arr"
   ]
  },
  {
   "cell_type": "code",
   "execution_count": 369,
   "metadata": {},
   "outputs": [],
   "source": [
    "X_train_std = pd.DataFrame(X_train_arr, columns=X_train.columns)"
   ]
  },
  {
   "cell_type": "code",
   "execution_count": 370,
   "metadata": {
    "scrolled": true
   },
   "outputs": [
    {
     "data": {
      "text/html": [
       "<div>\n",
       "<style scoped>\n",
       "    .dataframe tbody tr th:only-of-type {\n",
       "        vertical-align: middle;\n",
       "    }\n",
       "\n",
       "    .dataframe tbody tr th {\n",
       "        vertical-align: top;\n",
       "    }\n",
       "\n",
       "    .dataframe thead th {\n",
       "        text-align: right;\n",
       "    }\n",
       "</style>\n",
       "<table border=\"1\" class=\"dataframe\">\n",
       "  <thead>\n",
       "    <tr style=\"text-align: right;\">\n",
       "      <th></th>\n",
       "      <th>Age</th>\n",
       "      <th>Fare</th>\n",
       "      <th>Parch</th>\n",
       "      <th>Pclass</th>\n",
       "      <th>SibSp</th>\n",
       "      <th>IsFemale</th>\n",
       "      <th>Age_State</th>\n",
       "      <th>Has_Cabin</th>\n",
       "      <th>Is_Mother</th>\n",
       "      <th>Log_Fare</th>\n",
       "      <th>...</th>\n",
       "      <th>Fare_Lev</th>\n",
       "      <th>Embarked_Q</th>\n",
       "      <th>Embarked_S</th>\n",
       "      <th>Deck_B</th>\n",
       "      <th>Deck_C</th>\n",
       "      <th>Deck_D</th>\n",
       "      <th>Deck_E</th>\n",
       "      <th>Deck_F</th>\n",
       "      <th>Deck_G</th>\n",
       "      <th>Deck_N</th>\n",
       "    </tr>\n",
       "  </thead>\n",
       "  <tbody>\n",
       "    <tr>\n",
       "      <th>0</th>\n",
       "      <td>0.801963</td>\n",
       "      <td>-0.094350</td>\n",
       "      <td>-0.484165</td>\n",
       "      <td>-1.552477</td>\n",
       "      <td>-0.466808</td>\n",
       "      <td>-0.742427</td>\n",
       "      <td>0.318604</td>\n",
       "      <td>0.536211</td>\n",
       "      <td>-0.31696</td>\n",
       "      <td>0.399420</td>\n",
       "      <td>...</td>\n",
       "      <td>-0.040895</td>\n",
       "      <td>-0.324946</td>\n",
       "      <td>-1.535738</td>\n",
       "      <td>-0.24719</td>\n",
       "      <td>-0.26281</td>\n",
       "      <td>-0.194681</td>\n",
       "      <td>-0.190762</td>\n",
       "      <td>-0.1066</td>\n",
       "      <td>-0.053074</td>\n",
       "      <td>0.536211</td>\n",
       "    </tr>\n",
       "    <tr>\n",
       "      <th>1</th>\n",
       "      <td>-2.030078</td>\n",
       "      <td>-0.321006</td>\n",
       "      <td>0.704544</td>\n",
       "      <td>0.834917</td>\n",
       "      <td>0.421874</td>\n",
       "      <td>1.346933</td>\n",
       "      <td>-2.899074</td>\n",
       "      <td>-1.864936</td>\n",
       "      <td>-0.31696</td>\n",
       "      <td>-0.106686</td>\n",
       "      <td>...</td>\n",
       "      <td>-0.040895</td>\n",
       "      <td>-0.324946</td>\n",
       "      <td>0.651153</td>\n",
       "      <td>-0.24719</td>\n",
       "      <td>-0.26281</td>\n",
       "      <td>-0.194681</td>\n",
       "      <td>-0.190762</td>\n",
       "      <td>-0.1066</td>\n",
       "      <td>18.841444</td>\n",
       "      <td>-1.864936</td>\n",
       "    </tr>\n",
       "    <tr>\n",
       "      <th>2</th>\n",
       "      <td>1.352638</td>\n",
       "      <td>-0.479365</td>\n",
       "      <td>-0.484165</td>\n",
       "      <td>0.834917</td>\n",
       "      <td>-0.466808</td>\n",
       "      <td>-0.742427</td>\n",
       "      <td>0.318604</td>\n",
       "      <td>0.536211</td>\n",
       "      <td>-0.31696</td>\n",
       "      <td>-0.703673</td>\n",
       "      <td>...</td>\n",
       "      <td>-0.040895</td>\n",
       "      <td>-0.324946</td>\n",
       "      <td>0.651153</td>\n",
       "      <td>-0.24719</td>\n",
       "      <td>-0.26281</td>\n",
       "      <td>-0.194681</td>\n",
       "      <td>-0.190762</td>\n",
       "      <td>-0.1066</td>\n",
       "      <td>-0.053074</td>\n",
       "      <td>0.536211</td>\n",
       "    </tr>\n",
       "    <tr>\n",
       "      <th>3</th>\n",
       "      <td>-1.636739</td>\n",
       "      <td>-0.018940</td>\n",
       "      <td>1.893253</td>\n",
       "      <td>0.834917</td>\n",
       "      <td>3.087920</td>\n",
       "      <td>-0.742427</td>\n",
       "      <td>-1.290235</td>\n",
       "      <td>0.536211</td>\n",
       "      <td>-0.31696</td>\n",
       "      <td>0.525043</td>\n",
       "      <td>...</td>\n",
       "      <td>1.225073</td>\n",
       "      <td>-0.324946</td>\n",
       "      <td>0.651153</td>\n",
       "      <td>-0.24719</td>\n",
       "      <td>-0.26281</td>\n",
       "      <td>-0.194681</td>\n",
       "      <td>-0.190762</td>\n",
       "      <td>-0.1066</td>\n",
       "      <td>-0.053074</td>\n",
       "      <td>0.536211</td>\n",
       "    </tr>\n",
       "    <tr>\n",
       "      <th>4</th>\n",
       "      <td>-0.771393</td>\n",
       "      <td>-0.461970</td>\n",
       "      <td>-0.484165</td>\n",
       "      <td>0.834917</td>\n",
       "      <td>-0.466808</td>\n",
       "      <td>-0.742427</td>\n",
       "      <td>0.318604</td>\n",
       "      <td>0.536211</td>\n",
       "      <td>-0.31696</td>\n",
       "      <td>-0.618782</td>\n",
       "      <td>...</td>\n",
       "      <td>-0.040895</td>\n",
       "      <td>-0.324946</td>\n",
       "      <td>0.651153</td>\n",
       "      <td>-0.24719</td>\n",
       "      <td>-0.26281</td>\n",
       "      <td>-0.194681</td>\n",
       "      <td>-0.190762</td>\n",
       "      <td>-0.1066</td>\n",
       "      <td>-0.053074</td>\n",
       "      <td>0.536211</td>\n",
       "    </tr>\n",
       "  </tbody>\n",
       "</table>\n",
       "<p>5 rows × 21 columns</p>\n",
       "</div>"
      ],
      "text/plain": [
       "        Age      Fare     Parch    Pclass     SibSp  IsFemale  Age_State  \\\n",
       "0  0.801963 -0.094350 -0.484165 -1.552477 -0.466808 -0.742427   0.318604   \n",
       "1 -2.030078 -0.321006  0.704544  0.834917  0.421874  1.346933  -2.899074   \n",
       "2  1.352638 -0.479365 -0.484165  0.834917 -0.466808 -0.742427   0.318604   \n",
       "3 -1.636739 -0.018940  1.893253  0.834917  3.087920 -0.742427  -1.290235   \n",
       "4 -0.771393 -0.461970 -0.484165  0.834917 -0.466808 -0.742427   0.318604   \n",
       "\n",
       "   Has_Cabin  Is_Mother  Log_Fare  ...  Fare_Lev  Embarked_Q  Embarked_S  \\\n",
       "0   0.536211   -0.31696  0.399420  ... -0.040895   -0.324946   -1.535738   \n",
       "1  -1.864936   -0.31696 -0.106686  ... -0.040895   -0.324946    0.651153   \n",
       "2   0.536211   -0.31696 -0.703673  ... -0.040895   -0.324946    0.651153   \n",
       "3   0.536211   -0.31696  0.525043  ...  1.225073   -0.324946    0.651153   \n",
       "4   0.536211   -0.31696 -0.618782  ... -0.040895   -0.324946    0.651153   \n",
       "\n",
       "    Deck_B   Deck_C    Deck_D    Deck_E  Deck_F     Deck_G    Deck_N  \n",
       "0 -0.24719 -0.26281 -0.194681 -0.190762 -0.1066  -0.053074  0.536211  \n",
       "1 -0.24719 -0.26281 -0.194681 -0.190762 -0.1066  18.841444 -1.864936  \n",
       "2 -0.24719 -0.26281 -0.194681 -0.190762 -0.1066  -0.053074  0.536211  \n",
       "3 -0.24719 -0.26281 -0.194681 -0.190762 -0.1066  -0.053074  0.536211  \n",
       "4 -0.24719 -0.26281 -0.194681 -0.190762 -0.1066  -0.053074  0.536211  \n",
       "\n",
       "[5 rows x 21 columns]"
      ]
     },
     "execution_count": 370,
     "metadata": {},
     "output_type": "execute_result"
    }
   ],
   "source": [
    "X_train_std.head()"
   ]
  },
  {
   "cell_type": "code",
   "execution_count": 371,
   "metadata": {},
   "outputs": [],
   "source": [
    "X_train_std.drop(X_train_std.columns[0], axis = 1, inplace=True)"
   ]
  },
  {
   "cell_type": "code",
   "execution_count": 372,
   "metadata": {},
   "outputs": [],
   "source": [
    "X_train_std.set_index(X_train.index, inplace=True)"
   ]
  },
  {
   "cell_type": "code",
   "execution_count": 373,
   "metadata": {},
   "outputs": [],
   "source": [
    "#i want to use the same mean and std deviations calculated on the X_train columns, on the test data-set also, so I must not fit on the test data-set."
   ]
  },
  {
   "cell_type": "code",
   "execution_count": 374,
   "metadata": {},
   "outputs": [],
   "source": [
    "X_test_std = ss.transform(X_test)"
   ]
  },
  {
   "cell_type": "code",
   "execution_count": 375,
   "metadata": {},
   "outputs": [],
   "source": [
    "X_test_std = pd.DataFrame(X_test_std, columns=X_test.columns)"
   ]
  },
  {
   "cell_type": "code",
   "execution_count": 376,
   "metadata": {
    "scrolled": false
   },
   "outputs": [
    {
     "data": {
      "text/html": [
       "<div>\n",
       "<style scoped>\n",
       "    .dataframe tbody tr th:only-of-type {\n",
       "        vertical-align: middle;\n",
       "    }\n",
       "\n",
       "    .dataframe tbody tr th {\n",
       "        vertical-align: top;\n",
       "    }\n",
       "\n",
       "    .dataframe thead th {\n",
       "        text-align: right;\n",
       "    }\n",
       "</style>\n",
       "<table border=\"1\" class=\"dataframe\">\n",
       "  <thead>\n",
       "    <tr style=\"text-align: right;\">\n",
       "      <th></th>\n",
       "      <th>Age</th>\n",
       "      <th>Fare</th>\n",
       "      <th>Parch</th>\n",
       "      <th>Pclass</th>\n",
       "      <th>SibSp</th>\n",
       "      <th>IsFemale</th>\n",
       "      <th>Age_State</th>\n",
       "      <th>Has_Cabin</th>\n",
       "      <th>Is_Mother</th>\n",
       "      <th>Log_Fare</th>\n",
       "      <th>...</th>\n",
       "      <th>Fare_Lev</th>\n",
       "      <th>Embarked_Q</th>\n",
       "      <th>Embarked_S</th>\n",
       "      <th>Deck_B</th>\n",
       "      <th>Deck_C</th>\n",
       "      <th>Deck_D</th>\n",
       "      <th>Deck_E</th>\n",
       "      <th>Deck_F</th>\n",
       "      <th>Deck_G</th>\n",
       "      <th>Deck_N</th>\n",
       "    </tr>\n",
       "  </thead>\n",
       "  <tbody>\n",
       "    <tr>\n",
       "      <th>0</th>\n",
       "      <td>0.959299</td>\n",
       "      <td>-0.123828</td>\n",
       "      <td>-0.484165</td>\n",
       "      <td>-1.552477</td>\n",
       "      <td>-0.466808</td>\n",
       "      <td>-0.742427</td>\n",
       "      <td>0.318604</td>\n",
       "      <td>-1.864936</td>\n",
       "      <td>-0.316960</td>\n",
       "      <td>0.345895</td>\n",
       "      <td>...</td>\n",
       "      <td>-0.040895</td>\n",
       "      <td>-0.324946</td>\n",
       "      <td>0.651153</td>\n",
       "      <td>-0.24719</td>\n",
       "      <td>-0.26281</td>\n",
       "      <td>-0.194681</td>\n",
       "      <td>5.242137</td>\n",
       "      <td>-0.1066</td>\n",
       "      <td>-0.053074</td>\n",
       "      <td>-1.864936</td>\n",
       "    </tr>\n",
       "    <tr>\n",
       "      <th>1</th>\n",
       "      <td>-0.692725</td>\n",
       "      <td>-0.498903</td>\n",
       "      <td>-0.484165</td>\n",
       "      <td>0.834917</td>\n",
       "      <td>-0.466808</td>\n",
       "      <td>-0.742427</td>\n",
       "      <td>0.318604</td>\n",
       "      <td>0.536211</td>\n",
       "      <td>-0.316960</td>\n",
       "      <td>-0.808040</td>\n",
       "      <td>...</td>\n",
       "      <td>-0.040895</td>\n",
       "      <td>-0.324946</td>\n",
       "      <td>0.651153</td>\n",
       "      <td>-0.24719</td>\n",
       "      <td>-0.26281</td>\n",
       "      <td>-0.194681</td>\n",
       "      <td>-0.190762</td>\n",
       "      <td>-0.1066</td>\n",
       "      <td>-0.053074</td>\n",
       "      <td>0.536211</td>\n",
       "    </tr>\n",
       "    <tr>\n",
       "      <th>2</th>\n",
       "      <td>-0.456722</td>\n",
       "      <td>0.672340</td>\n",
       "      <td>1.893253</td>\n",
       "      <td>-0.358780</td>\n",
       "      <td>0.421874</td>\n",
       "      <td>1.346933</td>\n",
       "      <td>0.318604</td>\n",
       "      <td>0.536211</td>\n",
       "      <td>3.154972</td>\n",
       "      <td>1.269351</td>\n",
       "      <td>...</td>\n",
       "      <td>1.225073</td>\n",
       "      <td>-0.324946</td>\n",
       "      <td>0.651153</td>\n",
       "      <td>-0.24719</td>\n",
       "      <td>-0.26281</td>\n",
       "      <td>-0.194681</td>\n",
       "      <td>-0.190762</td>\n",
       "      <td>-0.1066</td>\n",
       "      <td>-0.053074</td>\n",
       "      <td>0.536211</td>\n",
       "    </tr>\n",
       "    <tr>\n",
       "      <th>3</th>\n",
       "      <td>-0.142050</td>\n",
       "      <td>0.497442</td>\n",
       "      <td>-0.484165</td>\n",
       "      <td>0.834917</td>\n",
       "      <td>-0.466808</td>\n",
       "      <td>-0.742427</td>\n",
       "      <td>0.318604</td>\n",
       "      <td>0.536211</td>\n",
       "      <td>-0.316960</td>\n",
       "      <td>1.125125</td>\n",
       "      <td>...</td>\n",
       "      <td>1.225073</td>\n",
       "      <td>-0.324946</td>\n",
       "      <td>0.651153</td>\n",
       "      <td>-0.24719</td>\n",
       "      <td>-0.26281</td>\n",
       "      <td>-0.194681</td>\n",
       "      <td>-0.190762</td>\n",
       "      <td>-0.1066</td>\n",
       "      <td>-0.053074</td>\n",
       "      <td>0.536211</td>\n",
       "    </tr>\n",
       "    <tr>\n",
       "      <th>4</th>\n",
       "      <td>-1.007396</td>\n",
       "      <td>-0.501474</td>\n",
       "      <td>1.893253</td>\n",
       "      <td>0.834917</td>\n",
       "      <td>3.087920</td>\n",
       "      <td>1.346933</td>\n",
       "      <td>-1.290235</td>\n",
       "      <td>0.536211</td>\n",
       "      <td>-0.316960</td>\n",
       "      <td>-0.822582</td>\n",
       "      <td>...</td>\n",
       "      <td>-0.040895</td>\n",
       "      <td>-0.324946</td>\n",
       "      <td>0.651153</td>\n",
       "      <td>-0.24719</td>\n",
       "      <td>-0.26281</td>\n",
       "      <td>-0.194681</td>\n",
       "      <td>-0.190762</td>\n",
       "      <td>-0.1066</td>\n",
       "      <td>-0.053074</td>\n",
       "      <td>0.536211</td>\n",
       "    </tr>\n",
       "  </tbody>\n",
       "</table>\n",
       "<p>5 rows × 21 columns</p>\n",
       "</div>"
      ],
      "text/plain": [
       "        Age      Fare     Parch    Pclass     SibSp  IsFemale  Age_State  \\\n",
       "0  0.959299 -0.123828 -0.484165 -1.552477 -0.466808 -0.742427   0.318604   \n",
       "1 -0.692725 -0.498903 -0.484165  0.834917 -0.466808 -0.742427   0.318604   \n",
       "2 -0.456722  0.672340  1.893253 -0.358780  0.421874  1.346933   0.318604   \n",
       "3 -0.142050  0.497442 -0.484165  0.834917 -0.466808 -0.742427   0.318604   \n",
       "4 -1.007396 -0.501474  1.893253  0.834917  3.087920  1.346933  -1.290235   \n",
       "\n",
       "   Has_Cabin  Is_Mother  Log_Fare  ...  Fare_Lev  Embarked_Q  Embarked_S  \\\n",
       "0  -1.864936  -0.316960  0.345895  ... -0.040895   -0.324946    0.651153   \n",
       "1   0.536211  -0.316960 -0.808040  ... -0.040895   -0.324946    0.651153   \n",
       "2   0.536211   3.154972  1.269351  ...  1.225073   -0.324946    0.651153   \n",
       "3   0.536211  -0.316960  1.125125  ...  1.225073   -0.324946    0.651153   \n",
       "4   0.536211  -0.316960 -0.822582  ... -0.040895   -0.324946    0.651153   \n",
       "\n",
       "    Deck_B   Deck_C    Deck_D    Deck_E  Deck_F    Deck_G    Deck_N  \n",
       "0 -0.24719 -0.26281 -0.194681  5.242137 -0.1066 -0.053074 -1.864936  \n",
       "1 -0.24719 -0.26281 -0.194681 -0.190762 -0.1066 -0.053074  0.536211  \n",
       "2 -0.24719 -0.26281 -0.194681 -0.190762 -0.1066 -0.053074  0.536211  \n",
       "3 -0.24719 -0.26281 -0.194681 -0.190762 -0.1066 -0.053074  0.536211  \n",
       "4 -0.24719 -0.26281 -0.194681 -0.190762 -0.1066 -0.053074  0.536211  \n",
       "\n",
       "[5 rows x 21 columns]"
      ]
     },
     "execution_count": 376,
     "metadata": {},
     "output_type": "execute_result"
    }
   ],
   "source": [
    "X_test_std.head()"
   ]
  },
  {
   "cell_type": "code",
   "execution_count": 377,
   "metadata": {},
   "outputs": [],
   "source": [
    "X_test_std.drop(X_test_std.columns[0], axis = 1, inplace=True)"
   ]
  },
  {
   "cell_type": "code",
   "execution_count": 378,
   "metadata": {},
   "outputs": [],
   "source": [
    "X_test_std.set_index(X_test.index, inplace=True)"
   ]
  },
  {
   "cell_type": "markdown",
   "metadata": {},
   "source": [
    "---"
   ]
  },
  {
   "cell_type": "code",
   "execution_count": 379,
   "metadata": {},
   "outputs": [],
   "source": [
    "from sklearn.linear_model import LogisticRegression"
   ]
  },
  {
   "cell_type": "code",
   "execution_count": 380,
   "metadata": {},
   "outputs": [],
   "source": [
    "model = LogisticRegression(random_state=10)"
   ]
  },
  {
   "cell_type": "code",
   "execution_count": 381,
   "metadata": {},
   "outputs": [
    {
     "name": "stderr",
     "output_type": "stream",
     "text": [
      "C:\\Users\\Vaibhav\\Anaconda3\\lib\\site-packages\\sklearn\\linear_model\\logistic.py:432: FutureWarning: Default solver will be changed to 'lbfgs' in 0.22. Specify a solver to silence this warning.\n",
      "  FutureWarning)\n"
     ]
    },
    {
     "data": {
      "text/plain": [
       "LogisticRegression(C=1.0, class_weight=None, dual=False, fit_intercept=True,\n",
       "                   intercept_scaling=1, l1_ratio=None, max_iter=100,\n",
       "                   multi_class='warn', n_jobs=None, penalty='l2',\n",
       "                   random_state=10, solver='warn', tol=0.0001, verbose=0,\n",
       "                   warm_start=False)"
      ]
     },
     "execution_count": 381,
     "metadata": {},
     "output_type": "execute_result"
    }
   ],
   "source": [
    "model.fit(X_train_std, y_train)"
   ]
  },
  {
   "cell_type": "code",
   "execution_count": 382,
   "metadata": {},
   "outputs": [],
   "source": [
    "ypredicted_test = model.predict(X_test_std)"
   ]
  },
  {
   "cell_type": "code",
   "execution_count": 383,
   "metadata": {
    "scrolled": true
   },
   "outputs": [
    {
     "data": {
      "text/plain": [
       "array([1, 0, 1, 0, 0, 0, 0, 0, 0, 0, 0, 1, 1, 0, 0, 0, 0, 0, 1, 0, 1, 1,\n",
       "       0, 0, 0, 1, 1, 0, 0, 0, 0, 0, 0, 0, 0, 0, 1, 0, 0, 0, 0, 0, 1, 0,\n",
       "       0, 1, 1, 0, 0, 1, 0, 1, 0, 1, 0, 0, 1, 0, 0, 0, 1, 1, 0, 0, 1, 0,\n",
       "       1, 0, 0, 0, 0, 0, 1, 0, 1, 1, 0, 1, 1, 0, 1, 0, 0, 0, 1, 1, 0, 0,\n",
       "       0, 0, 0, 0, 0, 0, 0, 1, 0, 1, 0, 1, 1, 0, 1, 1, 0, 1, 1, 0, 0, 0,\n",
       "       1, 0, 0, 0, 1, 1, 0, 1, 0, 0, 1, 0, 0, 0, 0, 0, 0, 1, 0, 0, 0, 0,\n",
       "       1, 1, 0, 1, 0, 0, 0, 0, 1, 1, 1, 1, 0, 1, 0, 0, 0, 1, 0, 0, 0, 0,\n",
       "       1, 0, 0, 1, 1, 0, 0, 0, 0, 0, 1, 1, 0, 0, 1, 0, 0, 1, 1, 1, 0, 0,\n",
       "       0, 0, 1], dtype=int64)"
      ]
     },
     "execution_count": 383,
     "metadata": {},
     "output_type": "execute_result"
    }
   ],
   "source": [
    "ypredicted_test"
   ]
  },
  {
   "cell_type": "code",
   "execution_count": 384,
   "metadata": {},
   "outputs": [],
   "source": [
    "ypredicted_train = model.predict(X_train_std)"
   ]
  },
  {
   "cell_type": "code",
   "execution_count": 385,
   "metadata": {},
   "outputs": [
    {
     "data": {
      "text/html": [
       "<div>\n",
       "<style scoped>\n",
       "    .dataframe tbody tr th:only-of-type {\n",
       "        vertical-align: middle;\n",
       "    }\n",
       "\n",
       "    .dataframe tbody tr th {\n",
       "        vertical-align: top;\n",
       "    }\n",
       "\n",
       "    .dataframe thead th {\n",
       "        text-align: right;\n",
       "    }\n",
       "</style>\n",
       "<table border=\"1\" class=\"dataframe\">\n",
       "  <thead>\n",
       "    <tr style=\"text-align: right;\">\n",
       "      <th>col_0</th>\n",
       "      <th>0</th>\n",
       "      <th>1</th>\n",
       "    </tr>\n",
       "    <tr>\n",
       "      <th>Survived</th>\n",
       "      <th></th>\n",
       "      <th></th>\n",
       "    </tr>\n",
       "  </thead>\n",
       "  <tbody>\n",
       "    <tr>\n",
       "      <th>0</th>\n",
       "      <td>389</td>\n",
       "      <td>60</td>\n",
       "    </tr>\n",
       "    <tr>\n",
       "      <th>1</th>\n",
       "      <td>66</td>\n",
       "      <td>197</td>\n",
       "    </tr>\n",
       "  </tbody>\n",
       "</table>\n",
       "</div>"
      ],
      "text/plain": [
       "col_0       0    1\n",
       "Survived          \n",
       "0         389   60\n",
       "1          66  197"
      ]
     },
     "execution_count": 385,
     "metadata": {},
     "output_type": "execute_result"
    }
   ],
   "source": [
    "conf_matrix_train = pd.crosstab(y_train, ypredicted_train)\n",
    "conf_matrix_train"
   ]
  },
  {
   "cell_type": "code",
   "execution_count": 386,
   "metadata": {
    "scrolled": false
   },
   "outputs": [
    {
     "data": {
      "text/html": [
       "<div>\n",
       "<style scoped>\n",
       "    .dataframe tbody tr th:only-of-type {\n",
       "        vertical-align: middle;\n",
       "    }\n",
       "\n",
       "    .dataframe tbody tr th {\n",
       "        vertical-align: top;\n",
       "    }\n",
       "\n",
       "    .dataframe thead th {\n",
       "        text-align: right;\n",
       "    }\n",
       "</style>\n",
       "<table border=\"1\" class=\"dataframe\">\n",
       "  <thead>\n",
       "    <tr style=\"text-align: right;\">\n",
       "      <th>col_0</th>\n",
       "      <th>0</th>\n",
       "      <th>1</th>\n",
       "    </tr>\n",
       "    <tr>\n",
       "      <th>Survived</th>\n",
       "      <th></th>\n",
       "      <th></th>\n",
       "    </tr>\n",
       "  </thead>\n",
       "  <tbody>\n",
       "    <tr>\n",
       "      <th>0</th>\n",
       "      <td>90</td>\n",
       "      <td>10</td>\n",
       "    </tr>\n",
       "    <tr>\n",
       "      <th>1</th>\n",
       "      <td>27</td>\n",
       "      <td>52</td>\n",
       "    </tr>\n",
       "  </tbody>\n",
       "</table>\n",
       "</div>"
      ],
      "text/plain": [
       "col_0      0   1\n",
       "Survived        \n",
       "0         90  10\n",
       "1         27  52"
      ]
     },
     "execution_count": 386,
     "metadata": {},
     "output_type": "execute_result"
    }
   ],
   "source": [
    "conf_matrix_test = pd.crosstab(y_test, ypredicted_test)\n",
    "conf_matrix_test"
   ]
  },
  {
   "cell_type": "code",
   "execution_count": 387,
   "metadata": {},
   "outputs": [],
   "source": [
    "TP = conf_matrix_test.loc[1,1]\n",
    "TN = conf_matrix_test.loc[0,0]\n",
    "FP = conf_matrix_test.loc[0,1]\n",
    "FN = conf_matrix_test.loc[1,0]"
   ]
  },
  {
   "cell_type": "code",
   "execution_count": 388,
   "metadata": {},
   "outputs": [
    {
     "data": {
      "text/plain": [
       "0.8230337078651685"
      ]
     },
     "execution_count": 388,
     "metadata": {},
     "output_type": "execute_result"
    }
   ],
   "source": [
    "accuracy_train = (conf_matrix_train.loc[0,0]+conf_matrix_train.loc[1,1])/X_train.shape[0]\n",
    "accuracy_train"
   ]
  },
  {
   "cell_type": "code",
   "execution_count": 389,
   "metadata": {},
   "outputs": [
    {
     "data": {
      "text/plain": [
       "0.7932960893854749"
      ]
     },
     "execution_count": 389,
     "metadata": {},
     "output_type": "execute_result"
    }
   ],
   "source": [
    "accuracy_test = (conf_matrix_test.loc[0,0]+conf_matrix_test.loc[1,1])/X_test.shape[0]\n",
    "accuracy_test"
   ]
  },
  {
   "cell_type": "code",
   "execution_count": 390,
   "metadata": {
    "scrolled": true
   },
   "outputs": [
    {
     "data": {
      "text/plain": [
       "0.8230337078651685"
      ]
     },
     "execution_count": 390,
     "metadata": {},
     "output_type": "execute_result"
    }
   ],
   "source": [
    "model.score(X_train_std, y_train)"
   ]
  },
  {
   "cell_type": "code",
   "execution_count": 391,
   "metadata": {
    "scrolled": true
   },
   "outputs": [
    {
     "data": {
      "text/plain": [
       "0.7932960893854749"
      ]
     },
     "execution_count": 391,
     "metadata": {},
     "output_type": "execute_result"
    }
   ],
   "source": [
    "model.score(X_test_std, y_test)"
   ]
  },
  {
   "cell_type": "code",
   "execution_count": 392,
   "metadata": {},
   "outputs": [],
   "source": [
    "from sklearn.metrics import accuracy_score"
   ]
  },
  {
   "cell_type": "code",
   "execution_count": 393,
   "metadata": {},
   "outputs": [
    {
     "data": {
      "text/plain": [
       "0.7932960893854749"
      ]
     },
     "execution_count": 393,
     "metadata": {},
     "output_type": "execute_result"
    }
   ],
   "source": [
    "accuracy_score(y_test, model.predict(X_test_std))"
   ]
  },
  {
   "cell_type": "code",
   "execution_count": 394,
   "metadata": {},
   "outputs": [
    {
     "data": {
      "text/plain": [
       "0.8230337078651685"
      ]
     },
     "execution_count": 394,
     "metadata": {},
     "output_type": "execute_result"
    }
   ],
   "source": [
    "accuracy_score(y_train, model.predict(X_train_std))"
   ]
  },
  {
   "cell_type": "code",
   "execution_count": 395,
   "metadata": {},
   "outputs": [
    {
     "data": {
      "text/plain": [
       "0.6582278481012658"
      ]
     },
     "execution_count": 395,
     "metadata": {},
     "output_type": "execute_result"
    }
   ],
   "source": [
    "sensitivity = TP/(TP+FN)\n",
    "sensitivity"
   ]
  },
  {
   "cell_type": "code",
   "execution_count": 396,
   "metadata": {},
   "outputs": [],
   "source": [
    "specificity = TN/(TN+FP)"
   ]
  },
  {
   "cell_type": "code",
   "execution_count": 397,
   "metadata": {},
   "outputs": [],
   "source": [
    "from sklearn.metrics import recall_score"
   ]
  },
  {
   "cell_type": "code",
   "execution_count": 398,
   "metadata": {},
   "outputs": [
    {
     "data": {
      "text/plain": [
       "0.6582278481012658"
      ]
     },
     "execution_count": 398,
     "metadata": {},
     "output_type": "execute_result"
    }
   ],
   "source": [
    "recall_score(y_test, model.predict(X_test_std))"
   ]
  },
  {
   "cell_type": "code",
   "execution_count": 399,
   "metadata": {},
   "outputs": [
    {
     "data": {
      "text/plain": [
       "array([[ 0.00473816, -0.13732873, -0.50013466, -0.3703564 ,  1.28381806,\n",
       "        -0.64596262, -0.02312742,  0.17447152,  0.17259175, -0.3220647 ,\n",
       "         0.1977087 ,  0.05391091, -0.13412052,  0.14752731, -0.02292526,\n",
       "         0.1547648 ,  0.21242565,  0.03340932,  0.23129386, -0.02312742]])"
      ]
     },
     "execution_count": 399,
     "metadata": {},
     "output_type": "execute_result"
    }
   ],
   "source": [
    "model.coef_"
   ]
  },
  {
   "cell_type": "code",
   "execution_count": 400,
   "metadata": {},
   "outputs": [
    {
     "data": {
      "text/plain": [
       "array([-0.74610278])"
      ]
     },
     "execution_count": 400,
     "metadata": {},
     "output_type": "execute_result"
    }
   ],
   "source": [
    "model.intercept_"
   ]
  },
  {
   "cell_type": "code",
   "execution_count": 401,
   "metadata": {},
   "outputs": [],
   "source": [
    "df = pd.DataFrame({\"Feature\": X_train_std.columns, \"Coefficients\": model.coef_.flatten()})"
   ]
  },
  {
   "cell_type": "code",
   "execution_count": 402,
   "metadata": {
    "scrolled": false
   },
   "outputs": [
    {
     "data": {
      "text/html": [
       "<div>\n",
       "<style scoped>\n",
       "    .dataframe tbody tr th:only-of-type {\n",
       "        vertical-align: middle;\n",
       "    }\n",
       "\n",
       "    .dataframe tbody tr th {\n",
       "        vertical-align: top;\n",
       "    }\n",
       "\n",
       "    .dataframe thead th {\n",
       "        text-align: right;\n",
       "    }\n",
       "</style>\n",
       "<table border=\"1\" class=\"dataframe\">\n",
       "  <thead>\n",
       "    <tr style=\"text-align: right;\">\n",
       "      <th></th>\n",
       "      <th>Feature</th>\n",
       "      <th>Coefficients</th>\n",
       "    </tr>\n",
       "  </thead>\n",
       "  <tbody>\n",
       "    <tr>\n",
       "      <th>0</th>\n",
       "      <td>Fare</td>\n",
       "      <td>0.004738</td>\n",
       "    </tr>\n",
       "    <tr>\n",
       "      <th>1</th>\n",
       "      <td>Parch</td>\n",
       "      <td>-0.137329</td>\n",
       "    </tr>\n",
       "    <tr>\n",
       "      <th>2</th>\n",
       "      <td>Pclass</td>\n",
       "      <td>-0.500135</td>\n",
       "    </tr>\n",
       "    <tr>\n",
       "      <th>3</th>\n",
       "      <td>SibSp</td>\n",
       "      <td>-0.370356</td>\n",
       "    </tr>\n",
       "    <tr>\n",
       "      <th>4</th>\n",
       "      <td>IsFemale</td>\n",
       "      <td>1.283818</td>\n",
       "    </tr>\n",
       "    <tr>\n",
       "      <th>5</th>\n",
       "      <td>Age_State</td>\n",
       "      <td>-0.645963</td>\n",
       "    </tr>\n",
       "    <tr>\n",
       "      <th>6</th>\n",
       "      <td>Has_Cabin</td>\n",
       "      <td>-0.023127</td>\n",
       "    </tr>\n",
       "    <tr>\n",
       "      <th>7</th>\n",
       "      <td>Is_Mother</td>\n",
       "      <td>0.174472</td>\n",
       "    </tr>\n",
       "    <tr>\n",
       "      <th>8</th>\n",
       "      <td>Log_Fare</td>\n",
       "      <td>0.172592</td>\n",
       "    </tr>\n",
       "    <tr>\n",
       "      <th>9</th>\n",
       "      <td>Family_Size</td>\n",
       "      <td>-0.322065</td>\n",
       "    </tr>\n",
       "    <tr>\n",
       "      <th>10</th>\n",
       "      <td>Fare_Lev</td>\n",
       "      <td>0.197709</td>\n",
       "    </tr>\n",
       "    <tr>\n",
       "      <th>11</th>\n",
       "      <td>Embarked_Q</td>\n",
       "      <td>0.053911</td>\n",
       "    </tr>\n",
       "    <tr>\n",
       "      <th>12</th>\n",
       "      <td>Embarked_S</td>\n",
       "      <td>-0.134121</td>\n",
       "    </tr>\n",
       "    <tr>\n",
       "      <th>13</th>\n",
       "      <td>Deck_B</td>\n",
       "      <td>0.147527</td>\n",
       "    </tr>\n",
       "    <tr>\n",
       "      <th>14</th>\n",
       "      <td>Deck_C</td>\n",
       "      <td>-0.022925</td>\n",
       "    </tr>\n",
       "    <tr>\n",
       "      <th>15</th>\n",
       "      <td>Deck_D</td>\n",
       "      <td>0.154765</td>\n",
       "    </tr>\n",
       "    <tr>\n",
       "      <th>16</th>\n",
       "      <td>Deck_E</td>\n",
       "      <td>0.212426</td>\n",
       "    </tr>\n",
       "    <tr>\n",
       "      <th>17</th>\n",
       "      <td>Deck_F</td>\n",
       "      <td>0.033409</td>\n",
       "    </tr>\n",
       "    <tr>\n",
       "      <th>18</th>\n",
       "      <td>Deck_G</td>\n",
       "      <td>0.231294</td>\n",
       "    </tr>\n",
       "    <tr>\n",
       "      <th>19</th>\n",
       "      <td>Deck_N</td>\n",
       "      <td>-0.023127</td>\n",
       "    </tr>\n",
       "  </tbody>\n",
       "</table>\n",
       "</div>"
      ],
      "text/plain": [
       "        Feature  Coefficients\n",
       "0          Fare      0.004738\n",
       "1         Parch     -0.137329\n",
       "2        Pclass     -0.500135\n",
       "3         SibSp     -0.370356\n",
       "4      IsFemale      1.283818\n",
       "5     Age_State     -0.645963\n",
       "6     Has_Cabin     -0.023127\n",
       "7     Is_Mother      0.174472\n",
       "8      Log_Fare      0.172592\n",
       "9   Family_Size     -0.322065\n",
       "10     Fare_Lev      0.197709\n",
       "11   Embarked_Q      0.053911\n",
       "12   Embarked_S     -0.134121\n",
       "13       Deck_B      0.147527\n",
       "14       Deck_C     -0.022925\n",
       "15       Deck_D      0.154765\n",
       "16       Deck_E      0.212426\n",
       "17       Deck_F      0.033409\n",
       "18       Deck_G      0.231294\n",
       "19       Deck_N     -0.023127"
      ]
     },
     "execution_count": 402,
     "metadata": {},
     "output_type": "execute_result"
    }
   ],
   "source": [
    "df"
   ]
  },
  {
   "cell_type": "code",
   "execution_count": 403,
   "metadata": {
    "scrolled": true
   },
   "outputs": [
    {
     "data": {
      "text/plain": [
       "PassengerId\n",
       "31     0\n",
       "11     1\n",
       "874    0\n",
       "Name: Survived, dtype: int64"
      ]
     },
     "execution_count": 403,
     "metadata": {},
     "output_type": "execute_result"
    }
   ],
   "source": [
    "y_train[:3]"
   ]
  },
  {
   "cell_type": "code",
   "execution_count": 404,
   "metadata": {
    "scrolled": true
   },
   "outputs": [
    {
     "data": {
      "text/html": [
       "<div>\n",
       "<style scoped>\n",
       "    .dataframe tbody tr th:only-of-type {\n",
       "        vertical-align: middle;\n",
       "    }\n",
       "\n",
       "    .dataframe tbody tr th {\n",
       "        vertical-align: top;\n",
       "    }\n",
       "\n",
       "    .dataframe thead th {\n",
       "        text-align: right;\n",
       "    }\n",
       "</style>\n",
       "<table border=\"1\" class=\"dataframe\">\n",
       "  <thead>\n",
       "    <tr style=\"text-align: right;\">\n",
       "      <th></th>\n",
       "      <th>Fare</th>\n",
       "      <th>Parch</th>\n",
       "      <th>Pclass</th>\n",
       "      <th>SibSp</th>\n",
       "      <th>IsFemale</th>\n",
       "      <th>Age_State</th>\n",
       "      <th>Has_Cabin</th>\n",
       "      <th>Is_Mother</th>\n",
       "      <th>Log_Fare</th>\n",
       "      <th>Family_Size</th>\n",
       "      <th>Fare_Lev</th>\n",
       "      <th>Embarked_Q</th>\n",
       "      <th>Embarked_S</th>\n",
       "      <th>Deck_B</th>\n",
       "      <th>Deck_C</th>\n",
       "      <th>Deck_D</th>\n",
       "      <th>Deck_E</th>\n",
       "      <th>Deck_F</th>\n",
       "      <th>Deck_G</th>\n",
       "      <th>Deck_N</th>\n",
       "    </tr>\n",
       "    <tr>\n",
       "      <th>PassengerId</th>\n",
       "      <th></th>\n",
       "      <th></th>\n",
       "      <th></th>\n",
       "      <th></th>\n",
       "      <th></th>\n",
       "      <th></th>\n",
       "      <th></th>\n",
       "      <th></th>\n",
       "      <th></th>\n",
       "      <th></th>\n",
       "      <th></th>\n",
       "      <th></th>\n",
       "      <th></th>\n",
       "      <th></th>\n",
       "      <th></th>\n",
       "      <th></th>\n",
       "      <th></th>\n",
       "      <th></th>\n",
       "      <th></th>\n",
       "      <th></th>\n",
       "    </tr>\n",
       "  </thead>\n",
       "  <tbody>\n",
       "    <tr>\n",
       "      <th>31</th>\n",
       "      <td>-0.094350</td>\n",
       "      <td>-0.484165</td>\n",
       "      <td>-1.552477</td>\n",
       "      <td>-0.466808</td>\n",
       "      <td>-0.742427</td>\n",
       "      <td>0.318604</td>\n",
       "      <td>0.536211</td>\n",
       "      <td>-0.31696</td>\n",
       "      <td>0.399420</td>\n",
       "      <td>-0.564280</td>\n",
       "      <td>-0.040895</td>\n",
       "      <td>-0.324946</td>\n",
       "      <td>-1.535738</td>\n",
       "      <td>-0.24719</td>\n",
       "      <td>-0.26281</td>\n",
       "      <td>-0.194681</td>\n",
       "      <td>-0.190762</td>\n",
       "      <td>-0.1066</td>\n",
       "      <td>-0.053074</td>\n",
       "      <td>0.536211</td>\n",
       "    </tr>\n",
       "    <tr>\n",
       "      <th>11</th>\n",
       "      <td>-0.321006</td>\n",
       "      <td>0.704544</td>\n",
       "      <td>0.834917</td>\n",
       "      <td>0.421874</td>\n",
       "      <td>1.346933</td>\n",
       "      <td>-2.899074</td>\n",
       "      <td>-1.864936</td>\n",
       "      <td>-0.31696</td>\n",
       "      <td>-0.106686</td>\n",
       "      <td>0.645863</td>\n",
       "      <td>-0.040895</td>\n",
       "      <td>-0.324946</td>\n",
       "      <td>0.651153</td>\n",
       "      <td>-0.24719</td>\n",
       "      <td>-0.26281</td>\n",
       "      <td>-0.194681</td>\n",
       "      <td>-0.190762</td>\n",
       "      <td>-0.1066</td>\n",
       "      <td>18.841444</td>\n",
       "      <td>-1.864936</td>\n",
       "    </tr>\n",
       "    <tr>\n",
       "      <th>874</th>\n",
       "      <td>-0.479365</td>\n",
       "      <td>-0.484165</td>\n",
       "      <td>0.834917</td>\n",
       "      <td>-0.466808</td>\n",
       "      <td>-0.742427</td>\n",
       "      <td>0.318604</td>\n",
       "      <td>0.536211</td>\n",
       "      <td>-0.31696</td>\n",
       "      <td>-0.703673</td>\n",
       "      <td>-0.564280</td>\n",
       "      <td>-0.040895</td>\n",
       "      <td>-0.324946</td>\n",
       "      <td>0.651153</td>\n",
       "      <td>-0.24719</td>\n",
       "      <td>-0.26281</td>\n",
       "      <td>-0.194681</td>\n",
       "      <td>-0.190762</td>\n",
       "      <td>-0.1066</td>\n",
       "      <td>-0.053074</td>\n",
       "      <td>0.536211</td>\n",
       "    </tr>\n",
       "    <tr>\n",
       "      <th>183</th>\n",
       "      <td>-0.018940</td>\n",
       "      <td>1.893253</td>\n",
       "      <td>0.834917</td>\n",
       "      <td>3.087920</td>\n",
       "      <td>-0.742427</td>\n",
       "      <td>-1.290235</td>\n",
       "      <td>0.536211</td>\n",
       "      <td>-0.31696</td>\n",
       "      <td>0.525043</td>\n",
       "      <td>3.066148</td>\n",
       "      <td>1.225073</td>\n",
       "      <td>-0.324946</td>\n",
       "      <td>0.651153</td>\n",
       "      <td>-0.24719</td>\n",
       "      <td>-0.26281</td>\n",
       "      <td>-0.194681</td>\n",
       "      <td>-0.190762</td>\n",
       "      <td>-0.1066</td>\n",
       "      <td>-0.053074</td>\n",
       "      <td>0.536211</td>\n",
       "    </tr>\n",
       "  </tbody>\n",
       "</table>\n",
       "</div>"
      ],
      "text/plain": [
       "                 Fare     Parch    Pclass     SibSp  IsFemale  Age_State  \\\n",
       "PassengerId                                                                \n",
       "31          -0.094350 -0.484165 -1.552477 -0.466808 -0.742427   0.318604   \n",
       "11          -0.321006  0.704544  0.834917  0.421874  1.346933  -2.899074   \n",
       "874         -0.479365 -0.484165  0.834917 -0.466808 -0.742427   0.318604   \n",
       "183         -0.018940  1.893253  0.834917  3.087920 -0.742427  -1.290235   \n",
       "\n",
       "             Has_Cabin  Is_Mother  Log_Fare  Family_Size  Fare_Lev  \\\n",
       "PassengerId                                                          \n",
       "31            0.536211   -0.31696  0.399420    -0.564280 -0.040895   \n",
       "11           -1.864936   -0.31696 -0.106686     0.645863 -0.040895   \n",
       "874           0.536211   -0.31696 -0.703673    -0.564280 -0.040895   \n",
       "183           0.536211   -0.31696  0.525043     3.066148  1.225073   \n",
       "\n",
       "             Embarked_Q  Embarked_S   Deck_B   Deck_C    Deck_D    Deck_E  \\\n",
       "PassengerId                                                                 \n",
       "31            -0.324946   -1.535738 -0.24719 -0.26281 -0.194681 -0.190762   \n",
       "11            -0.324946    0.651153 -0.24719 -0.26281 -0.194681 -0.190762   \n",
       "874           -0.324946    0.651153 -0.24719 -0.26281 -0.194681 -0.190762   \n",
       "183           -0.324946    0.651153 -0.24719 -0.26281 -0.194681 -0.190762   \n",
       "\n",
       "             Deck_F     Deck_G    Deck_N  \n",
       "PassengerId                               \n",
       "31          -0.1066  -0.053074  0.536211  \n",
       "11          -0.1066  18.841444 -1.864936  \n",
       "874         -0.1066  -0.053074  0.536211  \n",
       "183         -0.1066  -0.053074  0.536211  "
      ]
     },
     "execution_count": 404,
     "metadata": {},
     "output_type": "execute_result"
    }
   ],
   "source": [
    "X_train_std[:4]"
   ]
  },
  {
   "cell_type": "code",
   "execution_count": 405,
   "metadata": {},
   "outputs": [
    {
     "data": {
      "text/html": [
       "<div>\n",
       "<style scoped>\n",
       "    .dataframe tbody tr th:only-of-type {\n",
       "        vertical-align: middle;\n",
       "    }\n",
       "\n",
       "    .dataframe tbody tr th {\n",
       "        vertical-align: top;\n",
       "    }\n",
       "\n",
       "    .dataframe thead th {\n",
       "        text-align: right;\n",
       "    }\n",
       "</style>\n",
       "<table border=\"1\" class=\"dataframe\">\n",
       "  <thead>\n",
       "    <tr style=\"text-align: right;\">\n",
       "      <th></th>\n",
       "      <th>Fare</th>\n",
       "      <th>Parch</th>\n",
       "      <th>Pclass</th>\n",
       "      <th>SibSp</th>\n",
       "      <th>IsFemale</th>\n",
       "      <th>Age_State</th>\n",
       "      <th>Has_Cabin</th>\n",
       "      <th>Is_Mother</th>\n",
       "      <th>Log_Fare</th>\n",
       "      <th>Family_Size</th>\n",
       "      <th>Fare_Lev</th>\n",
       "      <th>Embarked_Q</th>\n",
       "      <th>Embarked_S</th>\n",
       "      <th>Deck_B</th>\n",
       "      <th>Deck_C</th>\n",
       "      <th>Deck_D</th>\n",
       "      <th>Deck_E</th>\n",
       "      <th>Deck_F</th>\n",
       "      <th>Deck_G</th>\n",
       "      <th>Deck_N</th>\n",
       "    </tr>\n",
       "    <tr>\n",
       "      <th>PassengerId</th>\n",
       "      <th></th>\n",
       "      <th></th>\n",
       "      <th></th>\n",
       "      <th></th>\n",
       "      <th></th>\n",
       "      <th></th>\n",
       "      <th></th>\n",
       "      <th></th>\n",
       "      <th></th>\n",
       "      <th></th>\n",
       "      <th></th>\n",
       "      <th></th>\n",
       "      <th></th>\n",
       "      <th></th>\n",
       "      <th></th>\n",
       "      <th></th>\n",
       "      <th></th>\n",
       "      <th></th>\n",
       "      <th></th>\n",
       "      <th></th>\n",
       "    </tr>\n",
       "  </thead>\n",
       "  <tbody>\n",
       "    <tr>\n",
       "      <th>708</th>\n",
       "      <td>-0.123828</td>\n",
       "      <td>-0.484165</td>\n",
       "      <td>-1.552477</td>\n",
       "      <td>-0.466808</td>\n",
       "      <td>-0.742427</td>\n",
       "      <td>0.318604</td>\n",
       "      <td>-1.864936</td>\n",
       "      <td>-0.316960</td>\n",
       "      <td>0.345895</td>\n",
       "      <td>-0.564280</td>\n",
       "      <td>-0.040895</td>\n",
       "      <td>-0.324946</td>\n",
       "      <td>0.651153</td>\n",
       "      <td>-0.24719</td>\n",
       "      <td>-0.26281</td>\n",
       "      <td>-0.194681</td>\n",
       "      <td>5.242137</td>\n",
       "      <td>-0.1066</td>\n",
       "      <td>-0.053074</td>\n",
       "      <td>-1.864936</td>\n",
       "    </tr>\n",
       "    <tr>\n",
       "      <th>38</th>\n",
       "      <td>-0.498903</td>\n",
       "      <td>-0.484165</td>\n",
       "      <td>0.834917</td>\n",
       "      <td>-0.466808</td>\n",
       "      <td>-0.742427</td>\n",
       "      <td>0.318604</td>\n",
       "      <td>0.536211</td>\n",
       "      <td>-0.316960</td>\n",
       "      <td>-0.808040</td>\n",
       "      <td>-0.564280</td>\n",
       "      <td>-0.040895</td>\n",
       "      <td>-0.324946</td>\n",
       "      <td>0.651153</td>\n",
       "      <td>-0.24719</td>\n",
       "      <td>-0.26281</td>\n",
       "      <td>-0.194681</td>\n",
       "      <td>-0.190762</td>\n",
       "      <td>-0.1066</td>\n",
       "      <td>-0.053074</td>\n",
       "      <td>0.536211</td>\n",
       "    </tr>\n",
       "    <tr>\n",
       "      <th>616</th>\n",
       "      <td>0.672340</td>\n",
       "      <td>1.893253</td>\n",
       "      <td>-0.358780</td>\n",
       "      <td>0.421874</td>\n",
       "      <td>1.346933</td>\n",
       "      <td>0.318604</td>\n",
       "      <td>0.536211</td>\n",
       "      <td>3.154972</td>\n",
       "      <td>1.269351</td>\n",
       "      <td>1.250934</td>\n",
       "      <td>1.225073</td>\n",
       "      <td>-0.324946</td>\n",
       "      <td>0.651153</td>\n",
       "      <td>-0.24719</td>\n",
       "      <td>-0.26281</td>\n",
       "      <td>-0.194681</td>\n",
       "      <td>-0.190762</td>\n",
       "      <td>-0.1066</td>\n",
       "      <td>-0.053074</td>\n",
       "      <td>0.536211</td>\n",
       "    </tr>\n",
       "  </tbody>\n",
       "</table>\n",
       "</div>"
      ],
      "text/plain": [
       "                 Fare     Parch    Pclass     SibSp  IsFemale  Age_State  \\\n",
       "PassengerId                                                                \n",
       "708         -0.123828 -0.484165 -1.552477 -0.466808 -0.742427   0.318604   \n",
       "38          -0.498903 -0.484165  0.834917 -0.466808 -0.742427   0.318604   \n",
       "616          0.672340  1.893253 -0.358780  0.421874  1.346933   0.318604   \n",
       "\n",
       "             Has_Cabin  Is_Mother  Log_Fare  Family_Size  Fare_Lev  \\\n",
       "PassengerId                                                          \n",
       "708          -1.864936  -0.316960  0.345895    -0.564280 -0.040895   \n",
       "38            0.536211  -0.316960 -0.808040    -0.564280 -0.040895   \n",
       "616           0.536211   3.154972  1.269351     1.250934  1.225073   \n",
       "\n",
       "             Embarked_Q  Embarked_S   Deck_B   Deck_C    Deck_D    Deck_E  \\\n",
       "PassengerId                                                                 \n",
       "708           -0.324946    0.651153 -0.24719 -0.26281 -0.194681  5.242137   \n",
       "38            -0.324946    0.651153 -0.24719 -0.26281 -0.194681 -0.190762   \n",
       "616           -0.324946    0.651153 -0.24719 -0.26281 -0.194681 -0.190762   \n",
       "\n",
       "             Deck_F    Deck_G    Deck_N  \n",
       "PassengerId                              \n",
       "708         -0.1066 -0.053074 -1.864936  \n",
       "38          -0.1066 -0.053074  0.536211  \n",
       "616         -0.1066 -0.053074  0.536211  "
      ]
     },
     "execution_count": 405,
     "metadata": {},
     "output_type": "execute_result"
    }
   ],
   "source": [
    "X_test_std[:3]"
   ]
  },
  {
   "cell_type": "code",
   "execution_count": 406,
   "metadata": {},
   "outputs": [],
   "source": [
    "from statsmodels.formula.api import glm\n",
    "import statsmodels.api as sm"
   ]
  },
  {
   "cell_type": "code",
   "execution_count": 407,
   "metadata": {},
   "outputs": [
    {
     "data": {
      "text/plain": [
       "0"
      ]
     },
     "execution_count": 407,
     "metadata": {},
     "output_type": "execute_result"
    }
   ],
   "source": [
    "y_train.isnull().sum()"
   ]
  },
  {
   "cell_type": "code",
   "execution_count": 412,
   "metadata": {},
   "outputs": [
    {
     "data": {
      "text/plain": [
       "'Fare+Parch+Pclass+SibSp+IsFemale+Age_State+Has_Cabin+Is_Mother+Log_Fare+Family_Size+Fare_Lev+Embarked_Q+Embarked_S+Deck_B+Deck_C+Deck_D+Deck_E+Deck_F+Deck_G+Deck_N'"
      ]
     },
     "execution_count": 412,
     "metadata": {},
     "output_type": "execute_result"
    }
   ],
   "source": [
    "features =\"+\".join(X_train.columns)\n",
    "features"
   ]
  },
  {
   "cell_type": "code",
   "execution_count": 425,
   "metadata": {},
   "outputs": [],
   "source": [
    "training =pd.concat((X_train,y_train), axis = 1)"
   ]
  },
  {
   "cell_type": "code",
   "execution_count": 433,
   "metadata": {},
   "outputs": [],
   "source": [
    "test =pd.concat((X_test,y_test), axis = 1)"
   ]
  },
  {
   "cell_type": "code",
   "execution_count": 434,
   "metadata": {},
   "outputs": [],
   "source": [
    "mod_log = glm(formula=\"Survived~\"+features, data=training, family = sm.families.Binomial()).fit()"
   ]
  },
  {
   "cell_type": "code",
   "execution_count": 435,
   "metadata": {
    "scrolled": true
   },
   "outputs": [
    {
     "data": {
      "text/html": [
       "<table class=\"simpletable\">\n",
       "<caption>Generalized Linear Model Regression Results</caption>\n",
       "<tr>\n",
       "  <th>Dep. Variable:</th>      <td>Survived</td>     <th>  No. Observations:  </th>  <td>   712</td>  \n",
       "</tr>\n",
       "<tr>\n",
       "  <th>Model:</th>                 <td>GLM</td>       <th>  Df Residuals:      </th>  <td>   693</td>  \n",
       "</tr>\n",
       "<tr>\n",
       "  <th>Model Family:</th>       <td>Binomial</td>     <th>  Df Model:          </th>  <td>    18</td>  \n",
       "</tr>\n",
       "<tr>\n",
       "  <th>Link Function:</th>        <td>logit</td>      <th>  Scale:             </th> <td>  1.0000</td> \n",
       "</tr>\n",
       "<tr>\n",
       "  <th>Method:</th>               <td>IRLS</td>       <th>  Log-Likelihood:    </th> <td> -294.62</td> \n",
       "</tr>\n",
       "<tr>\n",
       "  <th>Date:</th>           <td>Sat, 22 Aug 2020</td> <th>  Deviance:          </th> <td>  589.24</td> \n",
       "</tr>\n",
       "<tr>\n",
       "  <th>Time:</th>               <td>21:25:31</td>     <th>  Pearson chi2:      </th>  <td>  782.</td>  \n",
       "</tr>\n",
       "<tr>\n",
       "  <th>No. Iterations:</th>        <td>19</td>        <th>  Covariance Type:   </th> <td>nonrobust</td>\n",
       "</tr>\n",
       "</table>\n",
       "<table class=\"simpletable\">\n",
       "<tr>\n",
       "       <td></td>          <th>coef</th>     <th>std err</th>      <th>z</th>      <th>P>|z|</th>  <th>[0.025</th>    <th>0.975]</th>  \n",
       "</tr>\n",
       "<tr>\n",
       "  <th>Intercept</th>   <td>    1.9982</td> <td>    0.992</td> <td>    2.015</td> <td> 0.044</td> <td>    0.054</td> <td>    3.942</td>\n",
       "</tr>\n",
       "<tr>\n",
       "  <th>Fare</th>        <td> 4.112e-06</td> <td>    0.004</td> <td>    0.001</td> <td> 0.999</td> <td>   -0.007</td> <td>    0.007</td>\n",
       "</tr>\n",
       "<tr>\n",
       "  <th>Parch</th>       <td>   -0.7314</td> <td>    0.365</td> <td>   -2.003</td> <td> 0.045</td> <td>   -1.447</td> <td>   -0.016</td>\n",
       "</tr>\n",
       "<tr>\n",
       "  <th>Pclass</th>      <td>   -0.6182</td> <td>    0.229</td> <td>   -2.694</td> <td> 0.007</td> <td>   -1.068</td> <td>   -0.168</td>\n",
       "</tr>\n",
       "<tr>\n",
       "  <th>SibSp</th>       <td>   -0.9031</td> <td>    0.337</td> <td>   -2.681</td> <td> 0.007</td> <td>   -1.563</td> <td>   -0.243</td>\n",
       "</tr>\n",
       "<tr>\n",
       "  <th>IsFemale</th>    <td>    2.7235</td> <td>    0.247</td> <td>   11.038</td> <td> 0.000</td> <td>    2.240</td> <td>    3.207</td>\n",
       "</tr>\n",
       "<tr>\n",
       "  <th>Age_State</th>   <td>   -1.0665</td> <td>    0.202</td> <td>   -5.284</td> <td> 0.000</td> <td>   -1.462</td> <td>   -0.671</td>\n",
       "</tr>\n",
       "<tr>\n",
       "  <th>Has_Cabin</th>   <td>   -0.0263</td> <td>    0.366</td> <td>   -0.072</td> <td> 0.943</td> <td>   -0.743</td> <td>    0.690</td>\n",
       "</tr>\n",
       "<tr>\n",
       "  <th>Is_Mother</th>   <td>    0.6212</td> <td>    0.510</td> <td>    1.218</td> <td> 0.223</td> <td>   -0.378</td> <td>    1.620</td>\n",
       "</tr>\n",
       "<tr>\n",
       "  <th>Log_Fare</th>    <td>    0.4125</td> <td>    0.726</td> <td>    0.568</td> <td> 0.570</td> <td>   -1.010</td> <td>    1.835</td>\n",
       "</tr>\n",
       "<tr>\n",
       "  <th>Family_Size</th> <td>    0.3637</td> <td>    0.343</td> <td>    1.060</td> <td> 0.289</td> <td>   -0.309</td> <td>    1.036</td>\n",
       "</tr>\n",
       "<tr>\n",
       "  <th>Fare_Lev</th>    <td>    0.2585</td> <td>    0.314</td> <td>    0.823</td> <td> 0.411</td> <td>   -0.357</td> <td>    0.874</td>\n",
       "</tr>\n",
       "<tr>\n",
       "  <th>Embarked_Q</th>  <td>    0.1910</td> <td>    0.431</td> <td>    0.443</td> <td> 0.658</td> <td>   -0.654</td> <td>    1.036</td>\n",
       "</tr>\n",
       "<tr>\n",
       "  <th>Embarked_S</th>  <td>   -0.2961</td> <td>    0.282</td> <td>   -1.051</td> <td> 0.293</td> <td>   -0.848</td> <td>    0.256</td>\n",
       "</tr>\n",
       "<tr>\n",
       "  <th>Deck_B</th>      <td>    0.6898</td> <td>    0.815</td> <td>    0.846</td> <td> 0.397</td> <td>   -0.908</td> <td>    2.288</td>\n",
       "</tr>\n",
       "<tr>\n",
       "  <th>Deck_C</th>      <td>   -0.0519</td> <td>    0.781</td> <td>   -0.066</td> <td> 0.947</td> <td>   -1.583</td> <td>    1.479</td>\n",
       "</tr>\n",
       "<tr>\n",
       "  <th>Deck_D</th>      <td>    0.8817</td> <td>    0.831</td> <td>    1.061</td> <td> 0.289</td> <td>   -0.747</td> <td>    2.510</td>\n",
       "</tr>\n",
       "<tr>\n",
       "  <th>Deck_E</th>      <td>    1.2158</td> <td>    0.855</td> <td>    1.422</td> <td> 0.155</td> <td>   -0.460</td> <td>    2.891</td>\n",
       "</tr>\n",
       "<tr>\n",
       "  <th>Deck_F</th>      <td>    0.3777</td> <td>    1.248</td> <td>    0.303</td> <td> 0.762</td> <td>   -2.069</td> <td>    2.824</td>\n",
       "</tr>\n",
       "<tr>\n",
       "  <th>Deck_G</th>      <td>   19.6075</td> <td> 1.19e+04</td> <td>    0.002</td> <td> 0.999</td> <td>-2.33e+04</td> <td> 2.33e+04</td>\n",
       "</tr>\n",
       "<tr>\n",
       "  <th>Deck_N</th>      <td>   -0.0263</td> <td>    0.366</td> <td>   -0.072</td> <td> 0.943</td> <td>   -0.743</td> <td>    0.690</td>\n",
       "</tr>\n",
       "</table>"
      ],
      "text/plain": [
       "<class 'statsmodels.iolib.summary.Summary'>\n",
       "\"\"\"\n",
       "                 Generalized Linear Model Regression Results                  \n",
       "==============================================================================\n",
       "Dep. Variable:               Survived   No. Observations:                  712\n",
       "Model:                            GLM   Df Residuals:                      693\n",
       "Model Family:                Binomial   Df Model:                           18\n",
       "Link Function:                  logit   Scale:                          1.0000\n",
       "Method:                          IRLS   Log-Likelihood:                -294.62\n",
       "Date:                Sat, 22 Aug 2020   Deviance:                       589.24\n",
       "Time:                        21:25:31   Pearson chi2:                     782.\n",
       "No. Iterations:                    19   Covariance Type:             nonrobust\n",
       "===============================================================================\n",
       "                  coef    std err          z      P>|z|      [0.025      0.975]\n",
       "-------------------------------------------------------------------------------\n",
       "Intercept       1.9982      0.992      2.015      0.044       0.054       3.942\n",
       "Fare         4.112e-06      0.004      0.001      0.999      -0.007       0.007\n",
       "Parch          -0.7314      0.365     -2.003      0.045      -1.447      -0.016\n",
       "Pclass         -0.6182      0.229     -2.694      0.007      -1.068      -0.168\n",
       "SibSp          -0.9031      0.337     -2.681      0.007      -1.563      -0.243\n",
       "IsFemale        2.7235      0.247     11.038      0.000       2.240       3.207\n",
       "Age_State      -1.0665      0.202     -5.284      0.000      -1.462      -0.671\n",
       "Has_Cabin      -0.0263      0.366     -0.072      0.943      -0.743       0.690\n",
       "Is_Mother       0.6212      0.510      1.218      0.223      -0.378       1.620\n",
       "Log_Fare        0.4125      0.726      0.568      0.570      -1.010       1.835\n",
       "Family_Size     0.3637      0.343      1.060      0.289      -0.309       1.036\n",
       "Fare_Lev        0.2585      0.314      0.823      0.411      -0.357       0.874\n",
       "Embarked_Q      0.1910      0.431      0.443      0.658      -0.654       1.036\n",
       "Embarked_S     -0.2961      0.282     -1.051      0.293      -0.848       0.256\n",
       "Deck_B          0.6898      0.815      0.846      0.397      -0.908       2.288\n",
       "Deck_C         -0.0519      0.781     -0.066      0.947      -1.583       1.479\n",
       "Deck_D          0.8817      0.831      1.061      0.289      -0.747       2.510\n",
       "Deck_E          1.2158      0.855      1.422      0.155      -0.460       2.891\n",
       "Deck_F          0.3777      1.248      0.303      0.762      -2.069       2.824\n",
       "Deck_G         19.6075   1.19e+04      0.002      0.999   -2.33e+04    2.33e+04\n",
       "Deck_N         -0.0263      0.366     -0.072      0.943      -0.743       0.690\n",
       "===============================================================================\n",
       "\"\"\""
      ]
     },
     "execution_count": 435,
     "metadata": {},
     "output_type": "execute_result"
    }
   ],
   "source": [
    "mod_log.summary()"
   ]
  },
  {
   "cell_type": "code",
   "execution_count": 428,
   "metadata": {
    "scrolled": true
   },
   "outputs": [],
   "source": [
    "features_selected = mod_log.pvalues[mod_log.pvalues<.05]*100"
   ]
  },
  {
   "cell_type": "code",
   "execution_count": 429,
   "metadata": {},
   "outputs": [
    {
     "data": {
      "text/plain": [
       "Index(['Intercept', 'Parch', 'Pclass', 'SibSp', 'IsFemale', 'Age_State'], dtype='object')"
      ]
     },
     "execution_count": 429,
     "metadata": {},
     "output_type": "execute_result"
    }
   ],
   "source": [
    "features_selected.index"
   ]
  },
  {
   "cell_type": "code",
   "execution_count": 430,
   "metadata": {},
   "outputs": [
    {
     "data": {
      "text/plain": [
       "627.2409508220373"
      ]
     },
     "execution_count": 430,
     "metadata": {},
     "output_type": "execute_result"
    }
   ],
   "source": [
    "mod_log.aic"
   ]
  },
  {
   "cell_type": "code",
   "execution_count": null,
   "metadata": {},
   "outputs": [],
   "source": [
    "#AIC is lowest that is the best model. So, when there are insignificant features in the model, the aic value will be high.\n",
    "#As we remove the insignificant features aic will reduce"
   ]
  },
  {
   "cell_type": "code",
   "execution_count": null,
   "metadata": {},
   "outputs": [],
   "source": [
    "features_selected"
   ]
  },
  {
   "cell_type": "code",
   "execution_count": 437,
   "metadata": {},
   "outputs": [],
   "source": [
    "features = \"+\".join(features_selected.index)"
   ]
  },
  {
   "cell_type": "code",
   "execution_count": 440,
   "metadata": {},
   "outputs": [],
   "source": [
    "features = features.replace(\"Intercept+\", \"\")"
   ]
  },
  {
   "cell_type": "code",
   "execution_count": 441,
   "metadata": {},
   "outputs": [
    {
     "data": {
      "text/plain": [
       "'Parch+Pclass+SibSp+IsFemale+Age_State'"
      ]
     },
     "execution_count": 441,
     "metadata": {},
     "output_type": "execute_result"
    }
   ],
   "source": [
    "features"
   ]
  },
  {
   "cell_type": "code",
   "execution_count": 442,
   "metadata": {},
   "outputs": [],
   "source": [
    "mod_log2 = glm(formula=\"Survived~\"+features, data=training, family = sm.families.Binomial()).fit()"
   ]
  },
  {
   "cell_type": "code",
   "execution_count": 443,
   "metadata": {
    "scrolled": true
   },
   "outputs": [
    {
     "data": {
      "text/html": [
       "<table class=\"simpletable\">\n",
       "<caption>Generalized Linear Model Regression Results</caption>\n",
       "<tr>\n",
       "  <th>Dep. Variable:</th>      <td>Survived</td>     <th>  No. Observations:  </th>  <td>   712</td>  \n",
       "</tr>\n",
       "<tr>\n",
       "  <th>Model:</th>                 <td>GLM</td>       <th>  Df Residuals:      </th>  <td>   706</td>  \n",
       "</tr>\n",
       "<tr>\n",
       "  <th>Model Family:</th>       <td>Binomial</td>     <th>  Df Model:          </th>  <td>     5</td>  \n",
       "</tr>\n",
       "<tr>\n",
       "  <th>Link Function:</th>        <td>logit</td>      <th>  Scale:             </th> <td>  1.0000</td> \n",
       "</tr>\n",
       "<tr>\n",
       "  <th>Method:</th>               <td>IRLS</td>       <th>  Log-Likelihood:    </th> <td> -303.75</td> \n",
       "</tr>\n",
       "<tr>\n",
       "  <th>Date:</th>           <td>Sat, 22 Aug 2020</td> <th>  Deviance:          </th> <td>  607.51</td> \n",
       "</tr>\n",
       "<tr>\n",
       "  <th>Time:</th>               <td>21:34:48</td>     <th>  Pearson chi2:      </th>  <td>  830.</td>  \n",
       "</tr>\n",
       "<tr>\n",
       "  <th>No. Iterations:</th>         <td>5</td>        <th>  Covariance Type:   </th> <td>nonrobust</td>\n",
       "</tr>\n",
       "</table>\n",
       "<table class=\"simpletable\">\n",
       "<tr>\n",
       "      <td></td>         <th>coef</th>     <th>std err</th>      <th>z</th>      <th>P>|z|</th>  <th>[0.025</th>    <th>0.975]</th>  \n",
       "</tr>\n",
       "<tr>\n",
       "  <th>Intercept</th> <td>    3.5802</td> <td>    0.654</td> <td>    5.477</td> <td> 0.000</td> <td>    2.299</td> <td>    4.861</td>\n",
       "</tr>\n",
       "<tr>\n",
       "  <th>Parch</th>     <td>   -0.1204</td> <td>    0.123</td> <td>   -0.979</td> <td> 0.328</td> <td>   -0.361</td> <td>    0.121</td>\n",
       "</tr>\n",
       "<tr>\n",
       "  <th>Pclass</th>    <td>   -1.0664</td> <td>    0.128</td> <td>   -8.341</td> <td> 0.000</td> <td>   -1.317</td> <td>   -0.816</td>\n",
       "</tr>\n",
       "<tr>\n",
       "  <th>SibSp</th>     <td>   -0.4588</td> <td>    0.134</td> <td>   -3.416</td> <td> 0.001</td> <td>   -0.722</td> <td>   -0.196</td>\n",
       "</tr>\n",
       "<tr>\n",
       "  <th>IsFemale</th>  <td>    2.8858</td> <td>    0.228</td> <td>   12.646</td> <td> 0.000</td> <td>    2.439</td> <td>    3.333</td>\n",
       "</tr>\n",
       "<tr>\n",
       "  <th>Age_State</th> <td>   -0.9419</td> <td>    0.184</td> <td>   -5.128</td> <td> 0.000</td> <td>   -1.302</td> <td>   -0.582</td>\n",
       "</tr>\n",
       "</table>"
      ],
      "text/plain": [
       "<class 'statsmodels.iolib.summary.Summary'>\n",
       "\"\"\"\n",
       "                 Generalized Linear Model Regression Results                  \n",
       "==============================================================================\n",
       "Dep. Variable:               Survived   No. Observations:                  712\n",
       "Model:                            GLM   Df Residuals:                      706\n",
       "Model Family:                Binomial   Df Model:                            5\n",
       "Link Function:                  logit   Scale:                          1.0000\n",
       "Method:                          IRLS   Log-Likelihood:                -303.75\n",
       "Date:                Sat, 22 Aug 2020   Deviance:                       607.51\n",
       "Time:                        21:34:48   Pearson chi2:                     830.\n",
       "No. Iterations:                     5   Covariance Type:             nonrobust\n",
       "==============================================================================\n",
       "                 coef    std err          z      P>|z|      [0.025      0.975]\n",
       "------------------------------------------------------------------------------\n",
       "Intercept      3.5802      0.654      5.477      0.000       2.299       4.861\n",
       "Parch         -0.1204      0.123     -0.979      0.328      -0.361       0.121\n",
       "Pclass        -1.0664      0.128     -8.341      0.000      -1.317      -0.816\n",
       "SibSp         -0.4588      0.134     -3.416      0.001      -0.722      -0.196\n",
       "IsFemale       2.8858      0.228     12.646      0.000       2.439       3.333\n",
       "Age_State     -0.9419      0.184     -5.128      0.000      -1.302      -0.582\n",
       "==============================================================================\n",
       "\"\"\""
      ]
     },
     "execution_count": 443,
     "metadata": {},
     "output_type": "execute_result"
    }
   ],
   "source": [
    "mod_log2.summary()"
   ]
  },
  {
   "cell_type": "code",
   "execution_count": 444,
   "metadata": {},
   "outputs": [
    {
     "data": {
      "text/plain": [
       "619.5061543720585"
      ]
     },
     "execution_count": 444,
     "metadata": {},
     "output_type": "execute_result"
    }
   ],
   "source": [
    "mod_log2.aic #select the model with the lowest aic"
   ]
  },
  {
   "cell_type": "code",
   "execution_count": null,
   "metadata": {},
   "outputs": [],
   "source": [
    "#remove Parch yourself"
   ]
  },
  {
   "cell_type": "raw",
   "metadata": {},
   "source": [
    "lg (p/1-p) = 3.58-.12parch-1.06Pclass-.45Sibsp-.9Age_state"
   ]
  },
  {
   "cell_type": "code",
   "execution_count": null,
   "metadata": {},
   "outputs": [],
   "source": [
    "#most significant feature according to p-values"
   ]
  },
  {
   "cell_type": "code",
   "execution_count": 447,
   "metadata": {},
   "outputs": [],
   "source": [
    "y_test_predictedprob=mod_log2.predict(test)"
   ]
  },
  {
   "cell_type": "code",
   "execution_count": 449,
   "metadata": {},
   "outputs": [],
   "source": [
    "y_test_predicted = np.where(y_test_predictedprob>0.5,1,0)"
   ]
  },
  {
   "cell_type": "code",
   "execution_count": 450,
   "metadata": {},
   "outputs": [
    {
     "data": {
      "text/html": [
       "<div>\n",
       "<style scoped>\n",
       "    .dataframe tbody tr th:only-of-type {\n",
       "        vertical-align: middle;\n",
       "    }\n",
       "\n",
       "    .dataframe tbody tr th {\n",
       "        vertical-align: top;\n",
       "    }\n",
       "\n",
       "    .dataframe thead th {\n",
       "        text-align: right;\n",
       "    }\n",
       "</style>\n",
       "<table border=\"1\" class=\"dataframe\">\n",
       "  <thead>\n",
       "    <tr style=\"text-align: right;\">\n",
       "      <th>col_0</th>\n",
       "      <th>0</th>\n",
       "      <th>1</th>\n",
       "    </tr>\n",
       "    <tr>\n",
       "      <th>Survived</th>\n",
       "      <th></th>\n",
       "      <th></th>\n",
       "    </tr>\n",
       "  </thead>\n",
       "  <tbody>\n",
       "    <tr>\n",
       "      <th>0</th>\n",
       "      <td>94</td>\n",
       "      <td>6</td>\n",
       "    </tr>\n",
       "    <tr>\n",
       "      <th>1</th>\n",
       "      <td>33</td>\n",
       "      <td>46</td>\n",
       "    </tr>\n",
       "  </tbody>\n",
       "</table>\n",
       "</div>"
      ],
      "text/plain": [
       "col_0      0   1\n",
       "Survived        \n",
       "0         94   6\n",
       "1         33  46"
      ]
     },
     "execution_count": 450,
     "metadata": {},
     "output_type": "execute_result"
    }
   ],
   "source": [
    "pd.crosstab(y_test, y_test_predicted #confusion matrix"
   ]
  }
 ],
 "metadata": {
  "kernelspec": {
   "display_name": "Python 3",
   "language": "python",
   "name": "python3"
  },
  "language_info": {
   "codemirror_mode": {
    "name": "ipython",
    "version": 3
   },
   "file_extension": ".py",
   "mimetype": "text/x-python",
   "name": "python",
   "nbconvert_exporter": "python",
   "pygments_lexer": "ipython3",
   "version": "3.7.6"
  }
 },
 "nbformat": 4,
 "nbformat_minor": 2
}
