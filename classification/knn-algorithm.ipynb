{
 "cells": [
  {
   "cell_type": "code",
   "execution_count": null,
   "metadata": {},
   "outputs": [],
   "source": [
    "# First we will figure out the steps involved in the implementation of K-Nearest Neighbors\n",
    "#  from Scratch.\n",
    "\n",
    "# Step 1. Figure out an appropriate distance metric to calculate the distance between the data points.\n",
    "# Euclidean Distance\n",
    "# Minkowski Distance\n",
    "# Hanning Distance\n",
    "# Manhattan Distance\n",
    "# mahalanobis Distance.\n",
    "\n",
    "# Step 2. Store the distance in an array and sort it according to the ascending order of their distances\n",
    "# (preserving the index i.e. can use NumPy argsort method).\n",
    "\n",
    "# Step 3. Select the first K elements in the sorted list.\n",
    "\n",
    "# Step 4. Perform the majority Voting and the class with the maximum number of occurrences will be assigned\n",
    "#  as the new class for the data point to be classified."
   ]
  },
  {
   "cell_type": "code",
   "execution_count": 1,
   "metadata": {},
   "outputs": [],
   "source": [
    "import numpy as np\n",
    "\n",
    "# Distance metric Euclidean Distance.\n",
    "def eucledian(p1,p2):\n",
    "    dist = np.sqrt(np.sum((p1-p2)**2,axis=1))\n",
    "    return dist"
   ]
  },
  {
   "cell_type": "code",
   "execution_count": null,
   "metadata": {},
   "outputs": [],
   "source": [
    "def most_common(lst):\n",
    "    '''Returns the most common element in a list'''\n",
    "    return max(set(lst), key=lst.count)"
   ]
  },
  {
   "cell_type": "code",
   "execution_count": null,
   "metadata": {},
   "outputs": [],
   "source": [
    "# Function to Calculate KNN.\n",
    "def predict(x_train,y,x_input,k):\n",
    "    op_labels = []\n",
    "    # Loop through the datapoints.\n",
    "    for item in x_input:\n",
    "        dist = []\n",
    "        # Loop Through the each training data.\n",
    "        for j in range(len(x_train)):\n",
    "            distances = eucledian(np.array(x_train[j,:]),item)\n",
    "            # Calculating the distance.\n",
    "            dist.append(distances)\n",
    "        dist = np.array(dist)\n",
    "        dist = np.argsort(dist)[:k]\n",
    "        labels = y[dist]\n",
    "\n",
    "        # Majority Voting.\n",
    "        lab = most_common(labels) \n",
    "        op_labels.append(lab)\n",
    "\n",
    "        return op_labels\n",
    "\n",
    "# a = np.array([[6, 8, 3, 0],\n",
    "#              [3, 2, 1, 7],\n",
    "#              [8, 1, 8, 4],\n",
    "#              [5, 3, 0, 5],\n",
    "#              [4, 7, 5, 9]])\n",
    "# from scipy import stats\n",
    "# stats.mode(a, keepdims=True)\n",
    "# ModeResult(mode=array([[3, 1, 0, 0]]), count=array([[1, 1, 1, 1]]))\n",
    "# Returns:\n",
    "#    mode - ndarray\n",
    "#    Array of modal values.\n",
    "\n",
    "#    count - ndarray\n",
    "#    Array of counts for each mode."
   ]
  },
  {
   "cell_type": "code",
   "execution_count": null,
   "metadata": {},
   "outputs": [],
   "source": []
  },
  {
   "cell_type": "code",
   "execution_count": null,
   "metadata": {},
   "outputs": [],
   "source": []
  },
  {
   "cell_type": "code",
   "execution_count": null,
   "metadata": {},
   "outputs": [],
   "source": []
  },
  {
   "cell_type": "code",
   "execution_count": null,
   "metadata": {},
   "outputs": [],
   "source": []
  },
  {
   "cell_type": "code",
   "execution_count": null,
   "metadata": {},
   "outputs": [],
   "source": []
  },
  {
   "cell_type": "code",
   "execution_count": null,
   "metadata": {},
   "outputs": [],
   "source": []
  },
  {
   "cell_type": "code",
   "execution_count": null,
   "metadata": {},
   "outputs": [],
   "source": []
  },
  {
   "cell_type": "code",
   "execution_count": null,
   "metadata": {},
   "outputs": [],
   "source": []
  },
  {
   "cell_type": "code",
   "execution_count": null,
   "metadata": {},
   "outputs": [],
   "source": []
  },
  {
   "cell_type": "code",
   "execution_count": null,
   "metadata": {},
   "outputs": [],
   "source": []
  },
  {
   "cell_type": "code",
   "execution_count": null,
   "metadata": {},
   "outputs": [],
   "source": []
  },
  {
   "cell_type": "code",
   "execution_count": null,
   "metadata": {},
   "outputs": [],
   "source": []
  },
  {
   "cell_type": "code",
   "execution_count": null,
   "metadata": {},
   "outputs": [],
   "source": []
  },
  {
   "cell_type": "code",
   "execution_count": null,
   "metadata": {},
   "outputs": [],
   "source": []
  },
  {
   "cell_type": "code",
   "execution_count": null,
   "metadata": {},
   "outputs": [],
   "source": []
  },
  {
   "cell_type": "code",
   "execution_count": null,
   "metadata": {},
   "outputs": [],
   "source": []
  },
  {
   "cell_type": "code",
   "execution_count": null,
   "metadata": {},
   "outputs": [],
   "source": []
  },
  {
   "cell_type": "code",
   "execution_count": null,
   "metadata": {},
   "outputs": [],
   "source": []
  },
  {
   "cell_type": "code",
   "execution_count": null,
   "metadata": {},
   "outputs": [],
   "source": []
  },
  {
   "cell_type": "code",
   "execution_count": null,
   "metadata": {},
   "outputs": [],
   "source": []
  },
  {
   "cell_type": "code",
   "execution_count": null,
   "metadata": {},
   "outputs": [],
   "source": []
  }
 ],
 "metadata": {
  "kernelspec": {
   "display_name": "Python 3.9.7 64-bit",
   "language": "python",
   "name": "python3"
  },
  "language_info": {
   "codemirror_mode": {
    "name": "ipython",
    "version": 3
   },
   "file_extension": ".py",
   "mimetype": "text/x-python",
   "name": "python",
   "nbconvert_exporter": "python",
   "pygments_lexer": "ipython3",
   "version": "3.9.7"
  },
  "orig_nbformat": 4,
  "vscode": {
   "interpreter": {
    "hash": "81794d4967e6c3204c66dcd87b604927b115b27c00565d3d43f05ba2f3a2cb0d"
   }
  }
 },
 "nbformat": 4,
 "nbformat_minor": 2
}
