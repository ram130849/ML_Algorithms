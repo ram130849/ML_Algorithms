{
  "nbformat": 4,
  "nbformat_minor": 0,
  "metadata": {
    "colab": {
      "provenance": [],
      "authorship_tag": "ABX9TyNAnESS+JGk7G+qmGPe7NCK"
    },
    "kernelspec": {
      "name": "python3",
      "display_name": "Python 3"
    },
    "language_info": {
      "name": "python"
    },
    "gpuClass": "standard"
  },
  "cells": [
    {
      "cell_type": "code",
      "execution_count": 3,
      "metadata": {
        "id": "bqkowuAXd8On"
      },
      "outputs": [],
      "source": [
        "import numpy as np\n",
        "import pandas as pd\n",
        "from sklearn.datasets import load_iris\n",
        "from sklearn.utils import shuffle"
      ]
    },
    {
      "cell_type": "code",
      "source": [
        "X, classes = load_iris(return_X_y=True)\n",
        "## Shuffle classes and data \n",
        "X,classes = shuffle(X,classes) "
      ],
      "metadata": {
        "id": "R6ABgXcqeFaM"
      },
      "execution_count": 6,
      "outputs": []
    },
    {
      "cell_type": "code",
      "source": [
        "train_data = X[:135]  \n",
        "test_data = X[135:]"
      ],
      "metadata": {
        "id": "AWYA_duTeFNY"
      },
      "execution_count": 7,
      "outputs": []
    },
    {
      "cell_type": "code",
      "source": [
        "c1 = [float(np.random.randint(4,8)),float(np.random.randint(1,5)),\n",
        "      float(np.random.randint(1,7)),float(np.random.randint(0,3))]\n",
        "c2 = [float(np.random.randint(4,8)),float(np.random.randint(1,5)),\n",
        "      float(np.random.randint(1,7)),float(np.random.randint(0,3))]\n",
        "c3 = [float(np.random.randint(4,8)),float(np.random.randint(1,5)),\n",
        "      float(np.random.randint(1,7)),float(np.random.randint(0,3))]"
      ],
      "metadata": {
        "id": "WTakCrWAeFB9"
      },
      "execution_count": 8,
      "outputs": []
    },
    {
      "cell_type": "code",
      "source": [
        "epochs = 1\n",
        "while(epochs<=100):\n",
        "    cluster1 = []\n",
        "    cluster2 = []\n",
        "    cluster3 = []\n",
        "    for point in train_data:\n",
        "        dis_point_c1 = ((c1[0]-point[0])**2 + (c1[1]-point[1])**2 + (c1[2]-point[2])**2 + (c1[3]-point[3])**2)**0.5\n",
        "\n",
        "        dis_point_c2 = ((c2[0]-point[0])**2 + (c2[1]-point[1])**2 + (c2[2]-point[2])**2 + (c2[3]-point[3])**2)**0.5\n",
        "\n",
        "        dis_point_c3 = ((c3[0]-point[0])**2 + (c3[1]-point[1])**2 + (c3[2]-point[2])**2 + (c3[3]-point[3])**2)**0.5\n",
        "\n",
        "        distances = [dis_point_c1,dis_point_c2,dis_point_c3]\n",
        "\n",
        "        pos = distances.index(min(distances))\n",
        "\n",
        "        if(pos==0):\n",
        "            cluster1.append(point)\n",
        "        elif(pos==1):\n",
        "            cluster2.append(point)\n",
        "        else:\n",
        "            cluster3.append(point)\n",
        "\n",
        "    prev_c1 = c1\n",
        "    prev_c2 = c2\n",
        "    prev_c3 = c3\n",
        "\n",
        "    cluster1 = np.array(cluster1)\n",
        "    cluster2 = np.array(cluster2)\n",
        "    cluster3 = np.array(cluster3)\n",
        "\n",
        "    if(len(cluster1)!=0):\n",
        "        cluster1 = [sum(cluster1[:,0])/float(len(cluster1)),\n",
        "                    sum(cluster1[:,1]/float(len(cluster1))),\n",
        "                    sum(cluster1[:,2])/float(len(cluster1)),\n",
        "                    sum(cluster1[:,3])/float(len(cluster1))]\n",
        "    if(len(cluster2)!=0):\n",
        "        cluster2 = [sum(cluster2[:,0])/float(len(cluster2)),\n",
        "                    sum(cluster2[:,1]/float(len(cluster2))),\n",
        "                    sum(cluster2[:,2])/float(len(cluster2)),\n",
        "                    sum(cluster2[:,3])/float(len(cluster2))]\n",
        "    if(len(cluster3)!=0):\n",
        "        cluster3 = [sum(cluster3[:,0])/float(len(cluster3)),\n",
        "                    sum(cluster3[:,1])/float(len(cluster3)),\n",
        "                    sum(cluster3[:,2])/float(len(cluster3)),\n",
        "                    sum(cluster3[:,3])/float(len(cluster3))]\n",
        "\n",
        "    if(prev_c1 == c1 and prev_c2 == c2 and prev_c3 == c3):\n",
        "        print(\"Converged\")\n",
        "        break\n",
        "        \n",
        "    print(epochs)\n",
        "    epochs += 1"
      ],
      "metadata": {
        "colab": {
          "base_uri": "https://localhost:8080/"
        },
        "id": "N18XB3DeeE1s",
        "outputId": "b315a5b5-fd0a-4469-8bc5-c415aa19d955"
      },
      "execution_count": 11,
      "outputs": [
        {
          "output_type": "stream",
          "name": "stdout",
          "text": [
            "Converged\n"
          ]
        }
      ]
    },
    {
      "cell_type": "code",
      "source": [
        "pred = []\n",
        "for point in test_data:\n",
        "    dis_point_c1 = ((c1[0]-point[0])**2 + (c1[1]-point[1])**2 + \n",
        "                    (c1[2]-point[2])**2 + (c1[3]-point[3])**2)**0.5\n",
        "    dis_point_c2 = ((c2[0]-point[0])**2 + (c2[1]-point[1])**2 + \n",
        "                    (c2[2]-point[2])**2 + (c2[3]-point[3])**2)**0.5\n",
        "    dis_point_c3 = ((c3[0]-point[0])**2 + (c3[1]-point[1])**2 + \n",
        "                    (c3[2]-point[2])**2 + (c3[3]-point[3])**2)**0.5\n",
        "    distances = [dis_point_c1,dis_point_c2,dis_point_c3]\n",
        "    pos = distances.index(min(distances))\n",
        "    pred.append(pos)\n",
        "print(pred)"
      ],
      "metadata": {
        "colab": {
          "base_uri": "https://localhost:8080/"
        },
        "id": "iZerUlGBd_V9",
        "outputId": "5c005b2c-e3c0-4f30-e899-8817ce2e8ea1"
      },
      "execution_count": 14,
      "outputs": [
        {
          "output_type": "stream",
          "name": "stdout",
          "text": [
            "[0, 0, 1, 0, 1, 1, 1, 1, 1, 1, 0, 0, 0, 1, 1]\n"
          ]
        }
      ]
    },
    {
      "cell_type": "code",
      "source": [],
      "metadata": {
        "id": "AX3sMDz3d_c8"
      },
      "execution_count": null,
      "outputs": []
    },
    {
      "cell_type": "code",
      "source": [],
      "metadata": {
        "id": "3Z-eEB_Ud_jf"
      },
      "execution_count": null,
      "outputs": []
    },
    {
      "cell_type": "code",
      "source": [],
      "metadata": {
        "id": "c4et7HNhd_pA"
      },
      "execution_count": null,
      "outputs": []
    },
    {
      "cell_type": "code",
      "source": [],
      "metadata": {
        "id": "6AYYi3Atd_ua"
      },
      "execution_count": null,
      "outputs": []
    },
    {
      "cell_type": "code",
      "source": [],
      "metadata": {
        "id": "oYGAtqMUd_zh"
      },
      "execution_count": null,
      "outputs": []
    },
    {
      "cell_type": "code",
      "source": [],
      "metadata": {
        "id": "O-z93If9d_4v"
      },
      "execution_count": null,
      "outputs": []
    },
    {
      "cell_type": "code",
      "source": [],
      "metadata": {
        "id": "ZG2a3lAed_9s"
      },
      "execution_count": null,
      "outputs": []
    },
    {
      "cell_type": "code",
      "source": [],
      "metadata": {
        "id": "dlswdPqPeACv"
      },
      "execution_count": null,
      "outputs": []
    },
    {
      "cell_type": "code",
      "source": [],
      "metadata": {
        "id": "-T0nsH_TeAHP"
      },
      "execution_count": null,
      "outputs": []
    },
    {
      "cell_type": "code",
      "source": [],
      "metadata": {
        "id": "S3yT8Y6EeAMi"
      },
      "execution_count": null,
      "outputs": []
    },
    {
      "cell_type": "code",
      "source": [],
      "metadata": {
        "id": "0SDE93vteARf"
      },
      "execution_count": null,
      "outputs": []
    },
    {
      "cell_type": "code",
      "source": [],
      "metadata": {
        "id": "1QJqFGD7eAWK"
      },
      "execution_count": null,
      "outputs": []
    },
    {
      "cell_type": "code",
      "source": [],
      "metadata": {
        "id": "8Zo_5J5FeAa3"
      },
      "execution_count": null,
      "outputs": []
    },
    {
      "cell_type": "code",
      "source": [],
      "metadata": {
        "id": "h44swrkSeAfy"
      },
      "execution_count": null,
      "outputs": []
    },
    {
      "cell_type": "code",
      "source": [],
      "metadata": {
        "id": "wN0HUzGKeAkC"
      },
      "execution_count": null,
      "outputs": []
    },
    {
      "cell_type": "code",
      "source": [],
      "metadata": {
        "id": "sodyg5c9eAp-"
      },
      "execution_count": null,
      "outputs": []
    },
    {
      "cell_type": "code",
      "source": [],
      "metadata": {
        "id": "INM7n71oeAub"
      },
      "execution_count": null,
      "outputs": []
    },
    {
      "cell_type": "code",
      "source": [],
      "metadata": {
        "id": "gN2X_FWneAyn"
      },
      "execution_count": null,
      "outputs": []
    },
    {
      "cell_type": "code",
      "source": [],
      "metadata": {
        "id": "AE_emZ2JeA5B"
      },
      "execution_count": null,
      "outputs": []
    },
    {
      "cell_type": "code",
      "source": [],
      "metadata": {
        "id": "6butmgz2eA9g"
      },
      "execution_count": null,
      "outputs": []
    },
    {
      "cell_type": "code",
      "source": [],
      "metadata": {
        "id": "PfM4zVNbeBCe"
      },
      "execution_count": null,
      "outputs": []
    },
    {
      "cell_type": "code",
      "source": [],
      "metadata": {
        "id": "Oyaezw_ceBH0"
      },
      "execution_count": null,
      "outputs": []
    },
    {
      "cell_type": "code",
      "source": [],
      "metadata": {
        "id": "fsTW37PkeBMF"
      },
      "execution_count": null,
      "outputs": []
    },
    {
      "cell_type": "code",
      "source": [],
      "metadata": {
        "id": "TUDih93AeBRW"
      },
      "execution_count": null,
      "outputs": []
    },
    {
      "cell_type": "code",
      "source": [],
      "metadata": {
        "id": "7Tlcc5toeBWQ"
      },
      "execution_count": null,
      "outputs": []
    },
    {
      "cell_type": "code",
      "source": [],
      "metadata": {
        "id": "cjt0hv2xeBbR"
      },
      "execution_count": null,
      "outputs": []
    },
    {
      "cell_type": "code",
      "source": [],
      "metadata": {
        "id": "qxxKVpuyeBgj"
      },
      "execution_count": null,
      "outputs": []
    },
    {
      "cell_type": "code",
      "source": [],
      "metadata": {
        "id": "0Jtunrs5eBlI"
      },
      "execution_count": null,
      "outputs": []
    },
    {
      "cell_type": "code",
      "source": [],
      "metadata": {
        "id": "4K3LckG_eBp8"
      },
      "execution_count": null,
      "outputs": []
    },
    {
      "cell_type": "code",
      "source": [],
      "metadata": {
        "id": "s0Mpd433eBug"
      },
      "execution_count": null,
      "outputs": []
    },
    {
      "cell_type": "code",
      "source": [],
      "metadata": {
        "id": "oCgkHnJ1eBy4"
      },
      "execution_count": null,
      "outputs": []
    },
    {
      "cell_type": "code",
      "source": [],
      "metadata": {
        "id": "-cylipXaeB33"
      },
      "execution_count": null,
      "outputs": []
    },
    {
      "cell_type": "code",
      "source": [],
      "metadata": {
        "id": "5rx3GnK4eB70"
      },
      "execution_count": null,
      "outputs": []
    },
    {
      "cell_type": "code",
      "source": [],
      "metadata": {
        "id": "lk2YbNV3eCBF"
      },
      "execution_count": null,
      "outputs": []
    },
    {
      "cell_type": "code",
      "source": [],
      "metadata": {
        "id": "yOu8v0CfeCGD"
      },
      "execution_count": null,
      "outputs": []
    },
    {
      "cell_type": "code",
      "source": [],
      "metadata": {
        "id": "iYZMWFjSeCKC"
      },
      "execution_count": null,
      "outputs": []
    },
    {
      "cell_type": "code",
      "source": [],
      "metadata": {
        "id": "XOHkBWB_eCOh"
      },
      "execution_count": null,
      "outputs": []
    },
    {
      "cell_type": "code",
      "source": [],
      "metadata": {
        "id": "lZM9d-HLeCSo"
      },
      "execution_count": null,
      "outputs": []
    },
    {
      "cell_type": "code",
      "source": [],
      "metadata": {
        "id": "cRTKXxI8eCWt"
      },
      "execution_count": null,
      "outputs": []
    },
    {
      "cell_type": "code",
      "source": [],
      "metadata": {
        "id": "Nq9UIXQ9eCbF"
      },
      "execution_count": null,
      "outputs": []
    },
    {
      "cell_type": "code",
      "source": [],
      "metadata": {
        "id": "GGEuq173eCg3"
      },
      "execution_count": null,
      "outputs": []
    },
    {
      "cell_type": "code",
      "source": [],
      "metadata": {
        "id": "1bOkBFKqeCkp"
      },
      "execution_count": null,
      "outputs": []
    },
    {
      "cell_type": "code",
      "source": [],
      "metadata": {
        "id": "ypr2ULlkeCo9"
      },
      "execution_count": null,
      "outputs": []
    },
    {
      "cell_type": "code",
      "source": [],
      "metadata": {
        "id": "J9lziU4zeCuI"
      },
      "execution_count": null,
      "outputs": []
    },
    {
      "cell_type": "code",
      "source": [],
      "metadata": {
        "id": "w3EMcH3ieCyw"
      },
      "execution_count": null,
      "outputs": []
    },
    {
      "cell_type": "code",
      "source": [],
      "metadata": {
        "id": "5j7N55iAeC3M"
      },
      "execution_count": null,
      "outputs": []
    },
    {
      "cell_type": "code",
      "source": [],
      "metadata": {
        "id": "jQtESEGTeC8S"
      },
      "execution_count": null,
      "outputs": []
    },
    {
      "cell_type": "code",
      "source": [],
      "metadata": {
        "id": "us4fxZAPeDBv"
      },
      "execution_count": null,
      "outputs": []
    },
    {
      "cell_type": "code",
      "source": [],
      "metadata": {
        "id": "mrYNmjtKeDH-"
      },
      "execution_count": null,
      "outputs": []
    }
  ]
}